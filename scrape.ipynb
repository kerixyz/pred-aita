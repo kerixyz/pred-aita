{
 "cells": [
  {
   "cell_type": "code",
   "execution_count": 2,
   "id": "5fa0fc14",
   "metadata": {},
   "outputs": [
    {
     "data": {
      "text/plain": [
       "True"
      ]
     },
     "execution_count": 2,
     "metadata": {},
     "output_type": "execute_result"
    }
   ],
   "source": [
    "import re\n",
    "import praw\n",
    "import string\n",
    "import numpy as np\n",
    "import pandas as pd\n",
    "import matplotlib.pyplot as plt\n",
    "import seaborn as sns\n",
    "import pickle\n",
    "import requests  \n",
    "\n",
    "import os\n",
    "from dotenv import load_dotenv\n",
    "\n",
    "load_dotenv()"
   ]
  },
  {
   "cell_type": "code",
   "execution_count": 3,
   "id": "8c74719c",
   "metadata": {},
   "outputs": [],
   "source": [
    "client_id = os.getenv('CLIENT_ID')\n",
    "client_secret = os.getenv('CLIENT_SECRET')\n",
    "user_agent = os.getenv('USER_AGENT')\n",
    "reddit = praw.Reddit(client_id = client_id, \n",
    "                    client_secret =client_secret, \n",
    "                    user_agent=user_agent)"
   ]
  },
  {
   "cell_type": "code",
   "execution_count": 4,
   "id": "646e16ef",
   "metadata": {},
   "outputs": [],
   "source": [
    "posts = []\n",
    "#change subreddit to specific page\n",
    "sr = reddit.subreddit('AmITheAsshole')"
   ]
  },
  {
   "cell_type": "code",
   "execution_count": 5,
   "id": "77769ed1",
   "metadata": {},
   "outputs": [],
   "source": [
    "posts = []\n",
    "\n",
    "for post in sr.new(limit=1000):\n",
    "    posts.append([post.created, post.url, post.id, post.score, post.num_comments, post.author, post.link_flair_text, post.title, post.selftext])"
   ]
  },
  {
   "cell_type": "code",
   "execution_count": 6,
   "id": "3ecd99d8",
   "metadata": {},
   "outputs": [],
   "source": [
    "posts = []\n",
    "last_post = None \n",
    "\n",
    "for _ in range(10): \n",
    "    new_posts = sr.new(limit=1000, params={'after': last_post})\n",
    "    batch = [\n",
    "        [post.created, post.url, post.id, post.score, post.num_comments,\n",
    "         post.author, post.link_flair_text, post.title, post.selftext]\n",
    "        for post in new_posts\n",
    "    ]\n",
    "    if not batch:\n",
    "        break\n",
    "    posts.extend(batch)\n",
    "    last_post = batch[-1][2]\n",
    "    "
   ]
  },
  {
   "cell_type": "code",
   "execution_count": 7,
   "id": "81675307",
   "metadata": {},
   "outputs": [
    {
     "data": {
      "text/plain": [
       "8792"
      ]
     },
     "execution_count": 7,
     "metadata": {},
     "output_type": "execute_result"
    }
   ],
   "source": [
    "len(posts)\n"
   ]
  },
  {
   "cell_type": "code",
   "execution_count": 8,
   "id": "c18d9f6a",
   "metadata": {},
   "outputs": [],
   "source": [
    "posts = pd.DataFrame(posts, columns=['created', 'url', 'id', 'score', 'num_comments', 'author', 'flair', 'title', 'body'])\n",
    "# posts['created'] = pd.to_datetime(posts['created'], unit='s')\n"
   ]
  },
  {
   "cell_type": "code",
   "execution_count": 9,
   "id": "0022d1e5",
   "metadata": {},
   "outputs": [
    {
     "data": {
      "application/vnd.microsoft.datawrangler.viewer.v0+json": {
       "columns": [
        {
         "name": "index",
         "rawType": "int64",
         "type": "integer"
        },
        {
         "name": "created",
         "rawType": "float64",
         "type": "float"
        },
        {
         "name": "url",
         "rawType": "object",
         "type": "string"
        },
        {
         "name": "id",
         "rawType": "object",
         "type": "string"
        },
        {
         "name": "score",
         "rawType": "int64",
         "type": "integer"
        },
        {
         "name": "num_comments",
         "rawType": "int64",
         "type": "integer"
        },
        {
         "name": "author",
         "rawType": "object",
         "type": "unknown"
        },
        {
         "name": "flair",
         "rawType": "object",
         "type": "unknown"
        },
        {
         "name": "title",
         "rawType": "object",
         "type": "string"
        },
        {
         "name": "body",
         "rawType": "object",
         "type": "string"
        }
       ],
       "conversionMethod": "pd.DataFrame",
       "ref": "7474e911-af85-434e-b070-efa447d4d485",
       "rows": [
        [
         "0",
         "1744569389.0",
         "https://www.reddit.com/r/AmItheAsshole/comments/1jyelws/aita_for_not_giving_our_dog_back_to_my_ex_after/",
         "1jyelws",
         "1",
         "2",
         "Ilovemydog2025",
         null,
         "AITA for not giving our dog back to my ex after our breakup, even though I said I would?",
         "Eight months ago, my ex (30F) broke up with me (32M) after a year and a half together. During the relationship, we bought an apartment and adopted a stray puppy—Doggy—who became incredibly important to me, especially after I went through a period of severe depression and anxiety triggered by workplace harassment. Both my ex and Doggy played a vital role in my recovery. I even considered registering him as an emotional support animal but backed out, not wanting to change his playful nature through training.\n\nAfter we split, we agreed she would stay in the apartment while I found another place, and that we’d share custody of Doggy, alternating every two weeks. Meanwhile, we’d figure out what to do with the apartment (sell, rent, etc.). The apartment had issues—it needed renovations we never finished and was facing partial expropriation—so selling it seemed like a long, complicated process. She initially offered to buy my share but backed out when I asked how much she’d pay. Later, she proposed buying my part for two-thirds of the original value, despite us having invested more money in it for repairs.\n\nTwo months ago, I went to collect some things, and she pressed me for an answer about the apartment. I said I needed more time because her offer was too low. That’s when she told me she didn’t want to share custody of Doggy anymore. I said if that was the case, we’d have to settle it legally. On the day she was supposed to hand him over, she told me she wouldn’t—that I had “threatened” her and that Doggy was hers all along, and she’d only “loaned” him to me. I had a panic attack. I was devastated.\n\nLater, since I had made a counteroffer on the apartment (asking for just the cost plus what I’d spent on improvements), she accepted. I told her how much her actions were hurting me. She agreed to let me have Doggy one last time—under the condition that it would truly be the last time. I didn’t want to accept, but I felt I had no choice.\n\nShe kept her word and gave me Doggy. I followed through on the apartment sale. But in the month I spent with Doggy, I realized how deep my bond with him is. I didn’t feel it was fair to be forced to give him up completely. The day before I was supposed to return him (two days ago), I texted her saying I didn’t agree with how things were handled and asked to talk things through so we could reach a mutual agreement. She was furious and reminded me I had promised to give him back and that this was meant to be the final time.\n\nI truly meant to return Doggy, but when the moment came, I couldn’t do it. The anxiety of possibly never seeing him again overwhelmed me. Still, I offered a compromise: she could keep Doggy, but we’d share custody until the end of the year so I could gradually detach from him. I sent that message yesterday, and she hasn’t replied yet. I do feel guilty for not keeping my word, but I honestly didn’t know what else to do. Am I The Asshole?"
        ],
        [
         "1",
         "1744569129.0",
         "https://www.reddit.com/r/AmItheAsshole/comments/1jyei67/aita_because_i_wouldnt_put_my_step_dad_on_my/",
         "1jyei67",
         "5",
         "7",
         "BeththeBethBeth",
         null,
         "AITA because I wouldn't put my step dad on my child's emergency contacts",
         "\n\nAITA,  \nSo my mother and father broke up when i was around 12. She then got a partner who had 0 interest me in, according to my family my step dad said he would adopt me and my mum rightly said no as he'd been in my life a year at most and we didn't get along in that year and he didnt take it well my Auntys say they think he took it out on me. This aggression got worse as I grew up, he'd do things like lock me out of the house when they didn't let me have a key  so if they'd \"forgot\" to leave a key I'd have no other option but to try and see if any friends could let me stay at there's and many awful things in-between it'd take an age to list. I probably wasn't the easiest to deal with as a child admittedly.\nSkip forward to the present day, I have a baby of my own and have had recent problems regarding my son and my parents, so the first was a family wedding we all were invited too, my son is only just 2 and we are a big family who like to drink 7 ocklock was the latest i wanted to be there. I then got told the day before by my mum that she'd booked me a hotel room and If I get a lift down with her they're getting a taxi to the hotel around midnight. I said she shouldn't have done that without asking and I'd already arranged a lift back. Her partner then got on the phone called me selfish and childish and that not everything is always about me. I ended up just not going to the wedding.\nThe second time my mum was looking after my child while I went to night school she was going to have him until the morning and bring him home. When I got back home I called to check how he'd gone down he doesnt stay there too much, they have problems with him getting to sleep. They didn't answer for the first 2 rings and then my mum messaged me and it had a load of typos which isnt normal for her, I rang and she was drunk, slurring and my 2 year old was still awake in the background when I asked if she'd been drinking she started saying I was being stupid and she couldn't believe me, I walked to thier house to get my child and she called me an unfit mother and threw his clothes at me her partner came out  and asked me why i over react so much. I just walked off. \nSince that me and my mum once again are trying to repair, because I don't drive I asked her to drop a form off for my babys nursery that hes due to start. She didn't drop it off and instead took it home and read through it and when she saw that her partner wasn't on the emergency contacts she asked me why and accused me of pushing him out. She then said if he wasnt on the emergency contacts she didn't want to be and I told her I don't trust him after everything that's happened hes never not once in my life ever been there for me in an emergency he has only ever been a person who's made me feel worthless, I wouldn't ring him in an emergency for me or my child, why would I put him down. He also doesnt drive so wouldn't be much use. She then said if thats how she felt then she will cut contact with me. AITA "
        ],
        [
         "2",
         "1744568847.0",
         "https://www.reddit.com/r/AmItheAsshole/comments/1jyedz4/aita_for_not_apologising_to_my_dad/",
         "1jyedz4",
         "1",
         "3",
         "HML___",
         null,
         "AITA for not apologising to my dad",
         "I (17F) have been arguing a lot with my parents after doing poorly in school. They've since pressured me into unecessary extra lessons on top of ones i already do.\n\nSo three days ago i had one at 10 woke up late for it wich angered my dad a lot and made him say thing like you'll never get your degree\" or \"i should disown you\" \"me having a daughter like that really? you're just trash\" during the ride wich made me be honnest and tell him that these were honnestly unnecessary and that these are not things to say to his daughter wich angered him and made him turn back.\n\nThere i tell my mom what happened but she yells at me too and tell us to go back wich we do during the ride he repeats his statements alongside \"when you're eighteen i'll get rid of you\" \"you're good for nothing couldn't even become a miserable housecleaner\"(wich rude to house cleaners) this all make me sobs wich make my eyes burn painfully if i try to open them for some reason(discovered it was bcs of chemical residue) we arrive there and he tells me to go i tell him i can't bcs i'm still sobbing and my eyes hurt like hell he gets even more mad and try pulling me off the car wich i refuse he then go back to his seats and start yelling\"you're crazy\" \"you're a crazy psycopath i should send you to an asylum\" (weaponising my mental health against me) alongside other things and hitting the car and steering wheel in the middle of a busy street and trying to hit me bfr going back.\n\nWhen back my sister informs me that my mom doesn't want to talk to me wich she didn't until the afternoon when she came back yelling at me for not talking to her even if she didn't want me talking???  And says things like \"you're ungrateful why don't you do as your father say\" and other dumb things bcs my father only told her that i didn't wanna go when we arrived omitting the yelling and trying to hit me i explain what happened and it's still my fault bcs i was late and he has thyroid issues so it's normal he's that  mad.\n\nAll my family seems to think i should be the one apologising now wich i can't wrap my head around bcs being late is not a good enough reason for all this but maybe they're right and i am the asshole here"
        ],
        [
         "3",
         "1744568492.0",
         "https://www.reddit.com/r/AmItheAsshole/comments/1jye91z/aita_for_not_locking_the_door_and_ending_up/",
         "1jye91z",
         "0",
         "6",
         "Good_Researcher_6342",
         null,
         "AITA for not locking the door and ending up getting caught by my childhood best friend while I was… enjoying some alone time?",
         "Okay, so this is super embarrassing, but I need judgment on whether or not I’m the a**hole here.\n\nI’m a 28M and my best friend (27F)—let’s call her Jess—has been in my life since we were five. We’re basically siblings at this point, but without the blood relation. She recently moved back to our hometown and has been crashing at my place here and there while looking for her own apartment. She has a key, we’re super close, and she’s always just come and gone freely.\n\nLast weekend, she told me she’d be visiting her sister out of town and wouldn’t be back until Monday. So, Sunday afternoon rolls around, I figure I have the apartment to myself. I get comfortable. Very comfortable. Laptop out, lotion nearby, door unlocked because, well, why not? I’m home alone, right?\n\nWrong.\n\nRight in the middle of me… let’s say “committing the act,” the front door swings open. I panic. I flail. Laptop flies. Pillow thrown. It’s chaos. And then I hear her voice: “Oh my god.” I peek out and yep—Jess, frozen in the doorway with a grocery bag in her hand.\n\nShe backs out immediately and yells, “TEXT ME WHEN YOU’RE DECENT, YOU MONSTER.”\n\nWe had a very awkward laugh about it later. She joked about needing therapy and told me I should start locking the door. I said I thought she was out of town. She replied, “And that’s why you don’t do that in the living room like a savage.”\n\nSo now she’s making jokes about “public indecency” and calling me Lotion Boy, and I’m kinda wondering—was I the one in the wrong here? I mean, yeah, I didn’t lock the door, and yeah, I was in a common area, but I thought I was alone. We’re both adults, and it was my place too. But she seems weirdly annoyed despite laughing it off, and a mutual friend said she’s been telling people I “ambushed” her with trauma.\n\nSo… AITA for not locking the door and ending up traumatizing my best friend?\n\n⸻\n\nEDIT: To answer a few common questions—\n\t•\tYes, we’re just friends. Never hooked up, never flirted.\n\t•\tYes, we’ve talked about boundaries now.\n\t•\tNo, I was not on the couch anymore when she walked in. I had flopped to the floor in panic. Doesn’t make it better.\n\t•\tYes, I’m now considering moving. Or at least using a sock on the door.\n\n⸻\n\nWant a version where it leans toward romantic tension or drama? Let me know—I can dial it in however you want."
        ],
        [
         "4",
         "1744567366.0",
         "https://www.reddit.com/r/AmItheAsshole/comments/1jydszy/aita_because_i_got_angry_to_my_dad_because_he/",
         "1jydszy",
         "6",
         "17",
         "Ok_Champion_2743",
         null,
         "AITA because i got angry to my dad because he told my mom about my diagnosis?",
         "so my mom mocked me as a child when i told the symptoms about this and i felt like i have it and she always said stuff like in arguments ”atleast i dont have ___” which made me feel like shit etc…. so i had argument w my mom where i found out my dad indeed did tell about my diagnosis to my mom even tho i told him not to tell her i got so mad and cried so hard and literally had a mental breakdown apparently i am in the wrong here bc i am a minor and my mom should know well i didnt want to?? even my doctor said my mom doesnt need to know i thiught i could trust my dad but i guess no !!( AITA? also if ur tiktokker dont post this on ur feed id apprechiate it )"
        ]
       ],
       "shape": {
        "columns": 9,
        "rows": 5
       }
      },
      "text/html": [
       "<div>\n",
       "<style scoped>\n",
       "    .dataframe tbody tr th:only-of-type {\n",
       "        vertical-align: middle;\n",
       "    }\n",
       "\n",
       "    .dataframe tbody tr th {\n",
       "        vertical-align: top;\n",
       "    }\n",
       "\n",
       "    .dataframe thead th {\n",
       "        text-align: right;\n",
       "    }\n",
       "</style>\n",
       "<table border=\"1\" class=\"dataframe\">\n",
       "  <thead>\n",
       "    <tr style=\"text-align: right;\">\n",
       "      <th></th>\n",
       "      <th>created</th>\n",
       "      <th>url</th>\n",
       "      <th>id</th>\n",
       "      <th>score</th>\n",
       "      <th>num_comments</th>\n",
       "      <th>author</th>\n",
       "      <th>flair</th>\n",
       "      <th>title</th>\n",
       "      <th>body</th>\n",
       "    </tr>\n",
       "  </thead>\n",
       "  <tbody>\n",
       "    <tr>\n",
       "      <th>0</th>\n",
       "      <td>1.744569e+09</td>\n",
       "      <td>https://www.reddit.com/r/AmItheAsshole/comment...</td>\n",
       "      <td>1jyelws</td>\n",
       "      <td>1</td>\n",
       "      <td>2</td>\n",
       "      <td>Ilovemydog2025</td>\n",
       "      <td>None</td>\n",
       "      <td>AITA for not giving our dog back to my ex afte...</td>\n",
       "      <td>Eight months ago, my ex (30F) broke up with me...</td>\n",
       "    </tr>\n",
       "    <tr>\n",
       "      <th>1</th>\n",
       "      <td>1.744569e+09</td>\n",
       "      <td>https://www.reddit.com/r/AmItheAsshole/comment...</td>\n",
       "      <td>1jyei67</td>\n",
       "      <td>5</td>\n",
       "      <td>7</td>\n",
       "      <td>BeththeBethBeth</td>\n",
       "      <td>None</td>\n",
       "      <td>AITA because I wouldn't put my step dad on my ...</td>\n",
       "      <td>\\n\\nAITA,  \\nSo my mother and father broke up ...</td>\n",
       "    </tr>\n",
       "    <tr>\n",
       "      <th>2</th>\n",
       "      <td>1.744569e+09</td>\n",
       "      <td>https://www.reddit.com/r/AmItheAsshole/comment...</td>\n",
       "      <td>1jyedz4</td>\n",
       "      <td>1</td>\n",
       "      <td>3</td>\n",
       "      <td>HML___</td>\n",
       "      <td>None</td>\n",
       "      <td>AITA for not apologising to my dad</td>\n",
       "      <td>I (17F) have been arguing a lot with my parent...</td>\n",
       "    </tr>\n",
       "    <tr>\n",
       "      <th>3</th>\n",
       "      <td>1.744568e+09</td>\n",
       "      <td>https://www.reddit.com/r/AmItheAsshole/comment...</td>\n",
       "      <td>1jye91z</td>\n",
       "      <td>0</td>\n",
       "      <td>6</td>\n",
       "      <td>Good_Researcher_6342</td>\n",
       "      <td>None</td>\n",
       "      <td>AITA for not locking the door and ending up ge...</td>\n",
       "      <td>Okay, so this is super embarrassing, but I nee...</td>\n",
       "    </tr>\n",
       "    <tr>\n",
       "      <th>4</th>\n",
       "      <td>1.744567e+09</td>\n",
       "      <td>https://www.reddit.com/r/AmItheAsshole/comment...</td>\n",
       "      <td>1jydszy</td>\n",
       "      <td>6</td>\n",
       "      <td>17</td>\n",
       "      <td>Ok_Champion_2743</td>\n",
       "      <td>None</td>\n",
       "      <td>AITA because i got angry to my dad because he ...</td>\n",
       "      <td>so my mom mocked me as a child when i told the...</td>\n",
       "    </tr>\n",
       "  </tbody>\n",
       "</table>\n",
       "</div>"
      ],
      "text/plain": [
       "        created                                                url       id  \\\n",
       "0  1.744569e+09  https://www.reddit.com/r/AmItheAsshole/comment...  1jyelws   \n",
       "1  1.744569e+09  https://www.reddit.com/r/AmItheAsshole/comment...  1jyei67   \n",
       "2  1.744569e+09  https://www.reddit.com/r/AmItheAsshole/comment...  1jyedz4   \n",
       "3  1.744568e+09  https://www.reddit.com/r/AmItheAsshole/comment...  1jye91z   \n",
       "4  1.744567e+09  https://www.reddit.com/r/AmItheAsshole/comment...  1jydszy   \n",
       "\n",
       "   score  num_comments                author flair  \\\n",
       "0      1             2        Ilovemydog2025  None   \n",
       "1      5             7       BeththeBethBeth  None   \n",
       "2      1             3                HML___  None   \n",
       "3      0             6  Good_Researcher_6342  None   \n",
       "4      6            17      Ok_Champion_2743  None   \n",
       "\n",
       "                                               title  \\\n",
       "0  AITA for not giving our dog back to my ex afte...   \n",
       "1  AITA because I wouldn't put my step dad on my ...   \n",
       "2                 AITA for not apologising to my dad   \n",
       "3  AITA for not locking the door and ending up ge...   \n",
       "4  AITA because i got angry to my dad because he ...   \n",
       "\n",
       "                                                body  \n",
       "0  Eight months ago, my ex (30F) broke up with me...  \n",
       "1  \\n\\nAITA,  \\nSo my mother and father broke up ...  \n",
       "2  I (17F) have been arguing a lot with my parent...  \n",
       "3  Okay, so this is super embarrassing, but I nee...  \n",
       "4  so my mom mocked me as a child when i told the...  "
      ]
     },
     "metadata": {},
     "output_type": "display_data"
    }
   ],
   "source": [
    "display(posts.head())"
   ]
  },
  {
   "cell_type": "code",
   "execution_count": 10,
   "id": "f879b295",
   "metadata": {},
   "outputs": [],
   "source": [
    "df = posts"
   ]
  },
  {
   "cell_type": "code",
   "execution_count": 11,
   "id": "72289154",
   "metadata": {},
   "outputs": [
    {
     "data": {
      "text/plain": [
       "array([None, 'POO Mode Activated 💩', 'Not the A-hole', 'Asshole',\n",
       "       'No A-holes here', 'Everyone Sucks', 'TL;DR', 'Not enough info',\n",
       "       'UPDATE', 'Asshole POO Mode', '', 'Not the A-hole POO Mode',\n",
       "       'Everyone Sucks POO Mode', 'Open Forum'], dtype=object)"
      ]
     },
     "execution_count": 11,
     "metadata": {},
     "output_type": "execute_result"
    }
   ],
   "source": [
    "df['flair'].unique()"
   ]
  },
  {
   "cell_type": "code",
   "execution_count": 12,
   "id": "ef6097fd",
   "metadata": {},
   "outputs": [
    {
     "data": {
      "text/plain": [
       "array(['Not the A-hole', 'Asshole', 'No A-holes here', 'Everyone Sucks',\n",
       "       'Not enough info', ''], dtype=object)"
      ]
     },
     "execution_count": 12,
     "metadata": {},
     "output_type": "execute_result"
    }
   ],
   "source": [
    "df = df[df['flair'].isin(['Asshole', 'Not the A-hole', 'No A-holes here',\n",
    "       'Not enough info', 'Everyone Sucks', ''])]\n",
    "df['flair'].unique()"
   ]
  },
  {
   "cell_type": "code",
   "execution_count": 13,
   "id": "1a8b331b",
   "metadata": {},
   "outputs": [
    {
     "data": {
      "text/plain": [
       "(7780, 9)"
      ]
     },
     "execution_count": 13,
     "metadata": {},
     "output_type": "execute_result"
    }
   ],
   "source": [
    "df.size\n",
    "df.shape\n"
   ]
  },
  {
   "cell_type": "code",
   "execution_count": 14,
   "id": "496f3b58",
   "metadata": {},
   "outputs": [
    {
     "data": {
      "application/vnd.microsoft.datawrangler.viewer.v0+json": {
       "columns": [
        {
         "name": "index",
         "rawType": "int64",
         "type": "integer"
        },
        {
         "name": "created",
         "rawType": "float64",
         "type": "float"
        },
        {
         "name": "url",
         "rawType": "object",
         "type": "string"
        },
        {
         "name": "id",
         "rawType": "object",
         "type": "string"
        },
        {
         "name": "score",
         "rawType": "int64",
         "type": "integer"
        },
        {
         "name": "num_comments",
         "rawType": "int64",
         "type": "integer"
        },
        {
         "name": "author",
         "rawType": "object",
         "type": "unknown"
        },
        {
         "name": "flair",
         "rawType": "object",
         "type": "string"
        },
        {
         "name": "title",
         "rawType": "object",
         "type": "string"
        },
        {
         "name": "body",
         "rawType": "object",
         "type": "string"
        }
       ],
       "conversionMethod": "pd.DataFrame",
       "ref": "c1f6f0b2-71f1-4613-92ff-15d2123725b1",
       "rows": [
        [
         "56",
         "1744505230.0",
         "https://www.reddit.com/r/AmItheAsshole/comments/1jxvssj/aita_for_not_inviting_one_friend_on_our_trip/",
         "1jxvssj",
         "22",
         "11",
         "Theotherthirdsun",
         "Not the A-hole",
         "AITA for not inviting one friend on our trip?",
         "I've been friends with “Anna” and “Juan” since we were kids. My parents were born in Country A and haven't been back or seen their family since then because of the political situation. Because of that a lot of their relatives live in Country B. Anna’s mom is from Country B. We've been talking since pre COVID about going to Country B to see our families, and now that I'm working, it's finally doable. Anna, myself, and our parents are planning to go next January.\n\nJuan is upset that we're both going and didn't invite him, especially because we've talked about traveling together and haven't done it.\n\nI'm really excited to meet my family from Country A as I've never seen most of them in person, that's my main reason for doing it, and it's going to be the same way for Anna. I also can't afford to cover him, I can just cover the third of the trip I need to pay for. Honestly I'm not even sure what Juan would do in Country B so I haven't asked him to go even if he paid for it. But in any case, we are a group of three close friends and two of us are going, so is it AH behaviour to not include him?"
        ],
        [
         "57",
         "1744504876.0",
         "https://www.reddit.com/r/AmItheAsshole/comments/1jxvoyx/aita_for_the_joke_i_made_at_a_get_together_in/",
         "1jxvoyx",
         "901",
         "126",
         "shiny-baby-cheetah",
         "Not the A-hole",
         "AITA for the joke I made at a get together, in response to a joke that was made about me?",
         "Istg I've got to stop giving my weekends away to others, and just relax at home, lol. Everyone in this story is late 20s to early 30s.\n\nMy husband does community theater as a hobby. It's been about a year now, and he's been making new friends, which is great :) sometimes they get together for drinks, trivia, bowling, etc. Every once in a while, I come with. But I tend to have other things I prefer to spend my free time on. As a result, I'm considered something of a 'shiny pokemon' among this group of theater friends, and they joke when I come along that they're honored by the rare sighting. I love jokes and am an extremely unserious person, so this is great to me. All in fun.\n\nI hadn't come along in about two months. About a month ago, Husband made a new friendquaintance who we'll call 'Tess', through a few others in the theater group. She runs in adjacent circles. From what little I heard about her before meeting her yesterday, Husband and our mutual friend 'Nina' described her as bubbly, quirky, a jokester. Cool, I'm 2 of those 3 things, sounds good.\n\nI came up in conversation at the last outing, two weeks ago. This was Tess' first time hearing of my existence, since she and Husband were newly acquainted. When Tess heard that he and I are high school sweethearts, she laughed & said 'Oh, so she's just your Starter Wife, then.'\n\nHusband wasn't a fan of that joke, but laughed it off, and then Nina moved the conversation along because she could tell he didn't love that. When he came home and told me that night, I thought it was pretty funny. Kinda tactless, sure, but also funny. It's a cliche for a reason. I laughed and thought nothing more of it.\n\nLast night the group met up, and I accepted the invite too. When we got to the bar & grill, Tess and several others were already there. The folks I'm friendly with came to say hi and started their usual bit about being graced with a rare Cheetah appearance. We joked for a while, then Tess came up to introduce herself. I said it was nice to meet her. She made a comment about what a great guy my husband is. An opportunity for a joke came to me and I seized it. \n\nI smiled at her and really casually nodded & said 'Yeah, he's pretty awesome. I'm enjoying him while I can, before he dumps me for his Permanent wife.'\n\nMost of the group laughed, including Husband. But Tess' face fell, she mumbled about needing the bathroom, and speedwalked away. She spent ten minutes in the bathroom, sat quietly at the corner of the table for about another 15, and then ended up taking an Uber home. \n\nOur friend 'Nina' texted after we'd all gone home, and apparently I really embarrassed the hell out of Tess, since she didn't expect her joke to 'get back to me'. Tess 'is sensitive, was buzzed when she made the joke, and now feels self conscious because I 'made her look like a bitch.' Nina thinks that because I wasn't present when the first joke was made, I shouldn't have returned one of my own. \n\n??? AITA? I thought we were all just joking around."
        ],
        [
         "58",
         "1744500298.0",
         "https://www.reddit.com/r/AmItheAsshole/comments/1jxu9hu/aita_for_not_turning_on_life_360_for_my_mom/",
         "1jxu9hu",
         "80",
         "45",
         "Boring_Design_6445",
         "Not the A-hole",
         "AITA for not turning on Life 360 for my mom",
         " I(19f) am a university student and I still live with my family. The issue is that this semester, im almost never home throughout the day as I have work and school. My mom (42f) and my sister (2f) switch between living with us and living in her hometown, which she actually started doing for the first time last summer. All this adds is knowing that im not really spending time with my mother who i haven't seen in months and will be leaving in May\n\nMy mom had us download Life 360 back in highschool. And she keeps warring with my forgetful ass for always turning on battery saver, which I've been doing since 11.I don't like being tracked but I don't entirely mind. The issue is that my mom takes this as a personal offense. She constantly sends text reminders to turn off battery saver and throughout the years it's become second nature to ignore them. Not in a malicious way, but in the way i ignore text ads.\n\nWe've never had a major problem untill the time a musical I planned to go to was going to run until 11 p.m. When I found out the night before, I told my mom—she freaked out and made sure a religious friend went with me. I already had a non-religious friend coming but didn’t mention it because my mom doesn’t trust non-religious people.\n\n\nThe SECOND time though was on a weekend morning, when I'd usually be at work. I was at a Cafe waiting for my friend to get out of work when I get a call from my mom asking where I am and why wasn't life 360 on. \n\nOk whatever, I explain and all is well. Except  when I get home at like 6pm my mom is MAD she gave me kinda a silent treatment and the next day my mom brings my dad over so we can talk about the dangers of a women being out alone and why they need to keep track of me 😭 \nThey made me promise to keep battery saver off or I'll have to switch to an apple phone (bc they track better? Idk)\n\nAnyway it all came to a head last week when I TOLD her I would be at school for a fun thing for once, but I have a meeting at 7 and will be home at 8 (i forgot to tell her it was online so mb) Anyway my school thing ends early at 5 ish. I start driving home. Go to a chickfila to eat lunch and hang out in the parking lot watching yt videos (which is weird ik) then my mom calls me BLOWING UP asking me why I dont have battery saver on and how I better be ready to hand her my phone when I get home.\n\nWhen I get home I refused, so she said something along the lines of \"if  I was gonna be acting like this I should just leave\" so I DID. I left my phone at home so she can worry about me without any tracking. My sister went out w/me despite my discouragement and we had a fun 30 minute walk before I came back home. \n\nThen we kinda talked about it and she reminded me that she does send me a ton of text message reminders and that her outbursts don't come from nowhere. she also says it's her right as my mother to know my location. And I do get that she's just worried about me. I just can't find it in my heart to feel bad about it.\n\n\n"
        ],
        [
         "59",
         "1744499272.0",
         "https://www.reddit.com/r/AmItheAsshole/comments/1jxtxfl/aita_for_bringing_our_daughter_to_my_husbands_exs/",
         "1jxtxfl",
         "0",
         "35",
         "Embarrassed_Data4018",
         "Asshole",
         "AITA for bringing our daughter to my husband’s ex’s wedding even though he told me not to?",
         "\n\nAITA for bringing our daughter to my husband’s ex’s wedding even though he told me not to?\n\nSo here’s the situation. My husband Peter was married before we met, and he has a complicated history with his ex. Let’s call her Lisa. They’ve been divorced for years and don’t have any kids together. Peter and I have a 6-year-old daughter, K, who Lisa has met a few times at events—there’s no bad blood, just… distance.\n\nA few months ago, we got an invitation to Lisa’s wedding. I was surprised but Peter said he wanted to go out of respect and closure, and I honestly didn’t mind. I wasn’t particularly close to Lisa, but I’m not the jealous type, and I figured it’d be a short event and we’d be in and out.\n\nHere’s where it gets messy.\n\nThe wedding was last weekend. A few days before, Peter told me not to bring K. He said it wasn’t really a kid-friendly event and didn’t want her running around or being a distraction. But here’s the thing: our sitter canceled the day before, and I didn’t want to miss the wedding or leave K with someone she doesn’t know well. Plus, K had already picked out a dress and was excited about going.\n"
        ],
        [
         "60",
         "1744497137.0",
         "https://www.reddit.com/r/AmItheAsshole/comments/1jxt7ww/aita_for_kicking_out_a_homeless_woman_from_the/",
         "1jxt7ww",
         "443",
         "122",
         "Sea_Contract3436",
         "Not the A-hole",
         "AITA for kicking out a homeless woman from the hotel I work at?",
         "So, I work at a 5\\* hotel and more than a month ago, a woman came to the lobby at around 22:00 and asked if she could stay for a while inside. She was presentable and polite, so we agreed. At around 4AM, she left. The day after, she came back with the same request and again we allowed her to stay and sleep for a while, until she left at around 5AM. This kept on repeating for the next days and she started coming earlier, asking for food and drinks from the bar, and staying until later and asking for breakfast in the morning. We got a warning from our supervisors saying that this cannot keep on happening, and the next day when she came again (3 weeks after her first appearance), we had to kick her out at around 2AM. However, she kept on coming every day.\n\nShe has now been coming to the hotel every night for 5 weeks straight, where she has asked more than once if she could shower in one of the rooms, storage her heavy bags which she carries every night and even paid for a room (more than 200$ per night) in one of the nights. We have offered to help her several times, giving her recommendations for homeless shelters and the like, but she keeps on denying. The reception team as even offered to get her a room at a cheap hotel, to which she says no, and she claims to have no friends or family that can help her.\n\nThe part I cannot understand is: she always has clean clothes, smells nice and is polite. She often uses her Macbook and iPhone at the reception and has never disturbed anyone. I know from a logistics point of view, we can give her shelter and leftover food, but it's part of the hotel's policy that NO ONE can sleep in the lobby, not even guests. In the last few times we had to kick her out, she complains that no woman should be left alone in the streets at night and it really makes me feel like an asshole to ask her to leave.\n\nSo, AITA?\n\nEdit: I should add that she is very likely to have a mental illness. Her speech is incoherent, she has told different versions of her story several times and is very often confused."
        ]
       ],
       "shape": {
        "columns": 9,
        "rows": 5
       }
      },
      "text/html": [
       "<div>\n",
       "<style scoped>\n",
       "    .dataframe tbody tr th:only-of-type {\n",
       "        vertical-align: middle;\n",
       "    }\n",
       "\n",
       "    .dataframe tbody tr th {\n",
       "        vertical-align: top;\n",
       "    }\n",
       "\n",
       "    .dataframe thead th {\n",
       "        text-align: right;\n",
       "    }\n",
       "</style>\n",
       "<table border=\"1\" class=\"dataframe\">\n",
       "  <thead>\n",
       "    <tr style=\"text-align: right;\">\n",
       "      <th></th>\n",
       "      <th>created</th>\n",
       "      <th>url</th>\n",
       "      <th>id</th>\n",
       "      <th>score</th>\n",
       "      <th>num_comments</th>\n",
       "      <th>author</th>\n",
       "      <th>flair</th>\n",
       "      <th>title</th>\n",
       "      <th>body</th>\n",
       "    </tr>\n",
       "  </thead>\n",
       "  <tbody>\n",
       "    <tr>\n",
       "      <th>56</th>\n",
       "      <td>1.744505e+09</td>\n",
       "      <td>https://www.reddit.com/r/AmItheAsshole/comment...</td>\n",
       "      <td>1jxvssj</td>\n",
       "      <td>22</td>\n",
       "      <td>11</td>\n",
       "      <td>Theotherthirdsun</td>\n",
       "      <td>Not the A-hole</td>\n",
       "      <td>AITA for not inviting one friend on our trip?</td>\n",
       "      <td>I've been friends with “Anna” and “Juan” since...</td>\n",
       "    </tr>\n",
       "    <tr>\n",
       "      <th>57</th>\n",
       "      <td>1.744505e+09</td>\n",
       "      <td>https://www.reddit.com/r/AmItheAsshole/comment...</td>\n",
       "      <td>1jxvoyx</td>\n",
       "      <td>901</td>\n",
       "      <td>126</td>\n",
       "      <td>shiny-baby-cheetah</td>\n",
       "      <td>Not the A-hole</td>\n",
       "      <td>AITA for the joke I made at a get together, in...</td>\n",
       "      <td>Istg I've got to stop giving my weekends away ...</td>\n",
       "    </tr>\n",
       "    <tr>\n",
       "      <th>58</th>\n",
       "      <td>1.744500e+09</td>\n",
       "      <td>https://www.reddit.com/r/AmItheAsshole/comment...</td>\n",
       "      <td>1jxu9hu</td>\n",
       "      <td>80</td>\n",
       "      <td>45</td>\n",
       "      <td>Boring_Design_6445</td>\n",
       "      <td>Not the A-hole</td>\n",
       "      <td>AITA for not turning on Life 360 for my mom</td>\n",
       "      <td>I(19f) am a university student and I still li...</td>\n",
       "    </tr>\n",
       "    <tr>\n",
       "      <th>59</th>\n",
       "      <td>1.744499e+09</td>\n",
       "      <td>https://www.reddit.com/r/AmItheAsshole/comment...</td>\n",
       "      <td>1jxtxfl</td>\n",
       "      <td>0</td>\n",
       "      <td>35</td>\n",
       "      <td>Embarrassed_Data4018</td>\n",
       "      <td>Asshole</td>\n",
       "      <td>AITA for bringing our daughter to my husband’s...</td>\n",
       "      <td>\\n\\nAITA for bringing our daughter to my husba...</td>\n",
       "    </tr>\n",
       "    <tr>\n",
       "      <th>60</th>\n",
       "      <td>1.744497e+09</td>\n",
       "      <td>https://www.reddit.com/r/AmItheAsshole/comment...</td>\n",
       "      <td>1jxt7ww</td>\n",
       "      <td>443</td>\n",
       "      <td>122</td>\n",
       "      <td>Sea_Contract3436</td>\n",
       "      <td>Not the A-hole</td>\n",
       "      <td>AITA for kicking out a homeless woman from the...</td>\n",
       "      <td>So, I work at a 5\\* hotel and more than a mont...</td>\n",
       "    </tr>\n",
       "  </tbody>\n",
       "</table>\n",
       "</div>"
      ],
      "text/plain": [
       "         created                                                url       id  \\\n",
       "56  1.744505e+09  https://www.reddit.com/r/AmItheAsshole/comment...  1jxvssj   \n",
       "57  1.744505e+09  https://www.reddit.com/r/AmItheAsshole/comment...  1jxvoyx   \n",
       "58  1.744500e+09  https://www.reddit.com/r/AmItheAsshole/comment...  1jxu9hu   \n",
       "59  1.744499e+09  https://www.reddit.com/r/AmItheAsshole/comment...  1jxtxfl   \n",
       "60  1.744497e+09  https://www.reddit.com/r/AmItheAsshole/comment...  1jxt7ww   \n",
       "\n",
       "    score  num_comments                author           flair  \\\n",
       "56     22            11      Theotherthirdsun  Not the A-hole   \n",
       "57    901           126    shiny-baby-cheetah  Not the A-hole   \n",
       "58     80            45    Boring_Design_6445  Not the A-hole   \n",
       "59      0            35  Embarrassed_Data4018         Asshole   \n",
       "60    443           122      Sea_Contract3436  Not the A-hole   \n",
       "\n",
       "                                                title  \\\n",
       "56      AITA for not inviting one friend on our trip?   \n",
       "57  AITA for the joke I made at a get together, in...   \n",
       "58        AITA for not turning on Life 360 for my mom   \n",
       "59  AITA for bringing our daughter to my husband’s...   \n",
       "60  AITA for kicking out a homeless woman from the...   \n",
       "\n",
       "                                                 body  \n",
       "56  I've been friends with “Anna” and “Juan” since...  \n",
       "57  Istg I've got to stop giving my weekends away ...  \n",
       "58   I(19f) am a university student and I still li...  \n",
       "59  \\n\\nAITA for bringing our daughter to my husba...  \n",
       "60  So, I work at a 5\\* hotel and more than a mont...  "
      ]
     },
     "metadata": {},
     "output_type": "display_data"
    }
   ],
   "source": [
    "display(df.head())"
   ]
  },
  {
   "cell_type": "code",
   "execution_count": 15,
   "id": "b753886d",
   "metadata": {},
   "outputs": [],
   "source": [
    "df_clean = df[['id','flair','title','body']]\n",
    "\n"
   ]
  },
  {
   "cell_type": "code",
   "execution_count": 16,
   "id": "38bd7a21",
   "metadata": {},
   "outputs": [
    {
     "data": {
      "application/vnd.microsoft.datawrangler.viewer.v0+json": {
       "columns": [
        {
         "name": "index",
         "rawType": "int64",
         "type": "integer"
        },
        {
         "name": "id",
         "rawType": "object",
         "type": "string"
        },
        {
         "name": "flair",
         "rawType": "object",
         "type": "string"
        },
        {
         "name": "title",
         "rawType": "object",
         "type": "string"
        },
        {
         "name": "body",
         "rawType": "object",
         "type": "string"
        }
       ],
       "conversionMethod": "pd.DataFrame",
       "ref": "37dca96a-9975-42e3-a46f-70eef49b3671",
       "rows": [
        [
         "56",
         "1jxvssj",
         "Not the A-hole",
         "AITA for not inviting one friend on our trip?",
         "I've been friends with “Anna” and “Juan” since we were kids. My parents were born in Country A and haven't been back or seen their family since then because of the political situation. Because of that a lot of their relatives live in Country B. Anna’s mom is from Country B. We've been talking since pre COVID about going to Country B to see our families, and now that I'm working, it's finally doable. Anna, myself, and our parents are planning to go next January.\n\nJuan is upset that we're both going and didn't invite him, especially because we've talked about traveling together and haven't done it.\n\nI'm really excited to meet my family from Country A as I've never seen most of them in person, that's my main reason for doing it, and it's going to be the same way for Anna. I also can't afford to cover him, I can just cover the third of the trip I need to pay for. Honestly I'm not even sure what Juan would do in Country B so I haven't asked him to go even if he paid for it. But in any case, we are a group of three close friends and two of us are going, so is it AH behaviour to not include him?"
        ],
        [
         "57",
         "1jxvoyx",
         "Not the A-hole",
         "AITA for the joke I made at a get together, in response to a joke that was made about me?",
         "Istg I've got to stop giving my weekends away to others, and just relax at home, lol. Everyone in this story is late 20s to early 30s.\n\nMy husband does community theater as a hobby. It's been about a year now, and he's been making new friends, which is great :) sometimes they get together for drinks, trivia, bowling, etc. Every once in a while, I come with. But I tend to have other things I prefer to spend my free time on. As a result, I'm considered something of a 'shiny pokemon' among this group of theater friends, and they joke when I come along that they're honored by the rare sighting. I love jokes and am an extremely unserious person, so this is great to me. All in fun.\n\nI hadn't come along in about two months. About a month ago, Husband made a new friendquaintance who we'll call 'Tess', through a few others in the theater group. She runs in adjacent circles. From what little I heard about her before meeting her yesterday, Husband and our mutual friend 'Nina' described her as bubbly, quirky, a jokester. Cool, I'm 2 of those 3 things, sounds good.\n\nI came up in conversation at the last outing, two weeks ago. This was Tess' first time hearing of my existence, since she and Husband were newly acquainted. When Tess heard that he and I are high school sweethearts, she laughed & said 'Oh, so she's just your Starter Wife, then.'\n\nHusband wasn't a fan of that joke, but laughed it off, and then Nina moved the conversation along because she could tell he didn't love that. When he came home and told me that night, I thought it was pretty funny. Kinda tactless, sure, but also funny. It's a cliche for a reason. I laughed and thought nothing more of it.\n\nLast night the group met up, and I accepted the invite too. When we got to the bar & grill, Tess and several others were already there. The folks I'm friendly with came to say hi and started their usual bit about being graced with a rare Cheetah appearance. We joked for a while, then Tess came up to introduce herself. I said it was nice to meet her. She made a comment about what a great guy my husband is. An opportunity for a joke came to me and I seized it. \n\nI smiled at her and really casually nodded & said 'Yeah, he's pretty awesome. I'm enjoying him while I can, before he dumps me for his Permanent wife.'\n\nMost of the group laughed, including Husband. But Tess' face fell, she mumbled about needing the bathroom, and speedwalked away. She spent ten minutes in the bathroom, sat quietly at the corner of the table for about another 15, and then ended up taking an Uber home. \n\nOur friend 'Nina' texted after we'd all gone home, and apparently I really embarrassed the hell out of Tess, since she didn't expect her joke to 'get back to me'. Tess 'is sensitive, was buzzed when she made the joke, and now feels self conscious because I 'made her look like a bitch.' Nina thinks that because I wasn't present when the first joke was made, I shouldn't have returned one of my own. \n\n??? AITA? I thought we were all just joking around."
        ],
        [
         "58",
         "1jxu9hu",
         "Not the A-hole",
         "AITA for not turning on Life 360 for my mom",
         " I(19f) am a university student and I still live with my family. The issue is that this semester, im almost never home throughout the day as I have work and school. My mom (42f) and my sister (2f) switch between living with us and living in her hometown, which she actually started doing for the first time last summer. All this adds is knowing that im not really spending time with my mother who i haven't seen in months and will be leaving in May\n\nMy mom had us download Life 360 back in highschool. And she keeps warring with my forgetful ass for always turning on battery saver, which I've been doing since 11.I don't like being tracked but I don't entirely mind. The issue is that my mom takes this as a personal offense. She constantly sends text reminders to turn off battery saver and throughout the years it's become second nature to ignore them. Not in a malicious way, but in the way i ignore text ads.\n\nWe've never had a major problem untill the time a musical I planned to go to was going to run until 11 p.m. When I found out the night before, I told my mom—she freaked out and made sure a religious friend went with me. I already had a non-religious friend coming but didn’t mention it because my mom doesn’t trust non-religious people.\n\n\nThe SECOND time though was on a weekend morning, when I'd usually be at work. I was at a Cafe waiting for my friend to get out of work when I get a call from my mom asking where I am and why wasn't life 360 on. \n\nOk whatever, I explain and all is well. Except  when I get home at like 6pm my mom is MAD she gave me kinda a silent treatment and the next day my mom brings my dad over so we can talk about the dangers of a women being out alone and why they need to keep track of me 😭 \nThey made me promise to keep battery saver off or I'll have to switch to an apple phone (bc they track better? Idk)\n\nAnyway it all came to a head last week when I TOLD her I would be at school for a fun thing for once, but I have a meeting at 7 and will be home at 8 (i forgot to tell her it was online so mb) Anyway my school thing ends early at 5 ish. I start driving home. Go to a chickfila to eat lunch and hang out in the parking lot watching yt videos (which is weird ik) then my mom calls me BLOWING UP asking me why I dont have battery saver on and how I better be ready to hand her my phone when I get home.\n\nWhen I get home I refused, so she said something along the lines of \"if  I was gonna be acting like this I should just leave\" so I DID. I left my phone at home so she can worry about me without any tracking. My sister went out w/me despite my discouragement and we had a fun 30 minute walk before I came back home. \n\nThen we kinda talked about it and she reminded me that she does send me a ton of text message reminders and that her outbursts don't come from nowhere. she also says it's her right as my mother to know my location. And I do get that she's just worried about me. I just can't find it in my heart to feel bad about it.\n\n\n"
        ],
        [
         "59",
         "1jxtxfl",
         "Asshole",
         "AITA for bringing our daughter to my husband’s ex’s wedding even though he told me not to?",
         "\n\nAITA for bringing our daughter to my husband’s ex’s wedding even though he told me not to?\n\nSo here’s the situation. My husband Peter was married before we met, and he has a complicated history with his ex. Let’s call her Lisa. They’ve been divorced for years and don’t have any kids together. Peter and I have a 6-year-old daughter, K, who Lisa has met a few times at events—there’s no bad blood, just… distance.\n\nA few months ago, we got an invitation to Lisa’s wedding. I was surprised but Peter said he wanted to go out of respect and closure, and I honestly didn’t mind. I wasn’t particularly close to Lisa, but I’m not the jealous type, and I figured it’d be a short event and we’d be in and out.\n\nHere’s where it gets messy.\n\nThe wedding was last weekend. A few days before, Peter told me not to bring K. He said it wasn’t really a kid-friendly event and didn’t want her running around or being a distraction. But here’s the thing: our sitter canceled the day before, and I didn’t want to miss the wedding or leave K with someone she doesn’t know well. Plus, K had already picked out a dress and was excited about going.\n"
        ],
        [
         "60",
         "1jxt7ww",
         "Not the A-hole",
         "AITA for kicking out a homeless woman from the hotel I work at?",
         "So, I work at a 5\\* hotel and more than a month ago, a woman came to the lobby at around 22:00 and asked if she could stay for a while inside. She was presentable and polite, so we agreed. At around 4AM, she left. The day after, she came back with the same request and again we allowed her to stay and sleep for a while, until she left at around 5AM. This kept on repeating for the next days and she started coming earlier, asking for food and drinks from the bar, and staying until later and asking for breakfast in the morning. We got a warning from our supervisors saying that this cannot keep on happening, and the next day when she came again (3 weeks after her first appearance), we had to kick her out at around 2AM. However, she kept on coming every day.\n\nShe has now been coming to the hotel every night for 5 weeks straight, where she has asked more than once if she could shower in one of the rooms, storage her heavy bags which she carries every night and even paid for a room (more than 200$ per night) in one of the nights. We have offered to help her several times, giving her recommendations for homeless shelters and the like, but she keeps on denying. The reception team as even offered to get her a room at a cheap hotel, to which she says no, and she claims to have no friends or family that can help her.\n\nThe part I cannot understand is: she always has clean clothes, smells nice and is polite. She often uses her Macbook and iPhone at the reception and has never disturbed anyone. I know from a logistics point of view, we can give her shelter and leftover food, but it's part of the hotel's policy that NO ONE can sleep in the lobby, not even guests. In the last few times we had to kick her out, she complains that no woman should be left alone in the streets at night and it really makes me feel like an asshole to ask her to leave.\n\nSo, AITA?\n\nEdit: I should add that she is very likely to have a mental illness. Her speech is incoherent, she has told different versions of her story several times and is very often confused."
        ],
        [
         "61",
         "1jxt2o7",
         "Not the A-hole",
         "AITA for making a game based on an idea me and a friend made years ago?",
         "Basically back in 2021 me and a friend had an idea to make a game but we never really got through with it and it was all left in various unfinished prototypes that never got too far, a few months ago, i decided to pick back up the idea as it had been a really long time and i wanted to give it enough justice in the way of at least making it a somewhat finished game that had a coherent structure, the moment i showed this to my friend, he started remaking everything i had done for it but with his detailing style, scripting style, etc...\n\nNow, he wants me to completely stop making mine and practically copy most of the things i had done for my version of the game (which he already has without asking me once and henceforth without my permission) and i dont really know how to proceed with it as i dont want to give him full control as i simply dont see it right and i have no intentions of monetizing the project since all i do is passion projects that i make for fun.\n\nI just want to continue the project and if he wants to he can also make his own version, i have no problem with both versions co-existing and i'd be glad to help him with his own version after im done with my current demo of my own.\n\nAm i the asshole?"
        ],
        [
         "62",
         "1jxrssb",
         "Asshole",
         "AITA for preferring that my uncle teach me to drive than my dad and refusing to tell my dad why?",
         "Throwaway because I know at least one of my sisters uses reddit and I really don’t want this to get back to my dad. My(19F) dad(45M) has been badgering me to learn to drive for the last 2 years and I’ve been resistant to the idea because of multiple reasons. Partly the cost. Average lesson in my area is like £40 per hour and because I’ve got a part-time job my dad wants me to contribute to it. It’s my money and I don’t really see why I should have to pay for something I don’t even want to do so I didn’t but eventually he gave me an ultimatum of either learning to drive or pay rent to them (I live at home). \n\nI don’t think I can focus for long enough to be safe about it so I know I’d be shit at it. The idea of being in charge of something that could kill someone really freaks me out, and I don’t really trust myself with the responsibility. When I tried to explain this to my dad, he just gave me empty reassurances about how I shouldn’t let my anxiety hold me back. I think if I can’t stand even the thought of it, I’m not gonna be much better in practice. \n\nSo I chose to pay rent. Public transport isn’t awful where I live and I don't mind having to leave the house 20 minutes earlier than I would with a car. This clearly wasn’t what he wanted though because he called me stubborn and got all passive aggressive and pissy at me for a while. Eventually my dad sat me down and told me the reason he wanted me to learn to drive was because it opens up a lot of doors in the world or something and he was willing to entirely pay for the driving lessons, and teach me some stuff himself in car park before the lessons began so I wouldn’t be as nervous. I’m sick of arguing so I caved. He seemed really pleased by this and told me he’d always wanted to teach his kid to drive (I’m the eldest).\n\nThen I started having anxiety attacks about accidentally killing my dad. A few days after we talked, I told my dad I would only learn if my uncle (38M who lives pretty close to us and I don’t think he has anything better to do and would probably agree) taught me instead. He got pretty upset and honestly seemed insulted, especially because I kept just brushing him off or shutting down when he asked why. I couldn’t tell him though, because I know it sounds cruel and cold but the honest reason is that I’d rather my uncle die than him. Realistically, I know it’s not actually likely anything serious will happen but I couldn’t forgive myself if I risked my dad’s life. Obviously I’d care if my uncle died, but we’re not as close as me and my dad and he’s a bit of a prick anyway. I think I’d probably drive better if I wasn’t worrying about my dad the whole time on top of the driving anxiety. \n\nNow my dad’s mad at me and the only times we’ve spoken in the last week have been either fighting or awkward. I really just wish he’d let it go because I don’t want to explain and I’d be learning to drive anyway, but at the same time I’ve been feeling guilty ever since. AITA?\n\n"
        ],
        [
         "63",
         "1jxrk9e",
         "Not the A-hole",
         "AITA for indirectly establishing a boundary with my stepdad?",
         "I (F20) am currently in a situation where my mom (F48) and my stepdad (M40) aren't really speaking to me and I want to know if I'm in the right or wrong.\n\nFriday morning, my stepdad kept coming into my room (I sleep with my door closed) with my dog playing with him, all the while roughly patting on me to rile him up (for reference, my dog is a year old so he's pretty young and energetic). He did this THREE TIMES while I was trying to sleep in as I didn't have school on Fridays. The third time however, was where this story takes a turn.\n\nFor context -- so this part of the story makes sense -- I used to live with my abusive father and his wife's children used to come into my room, unannounced and uninvited, touch and sometimes steal my stuff. This caused me to be very territorial with my belongings (silly, I know).\n\nSo he jokingly says to my puppy, \"Let's take her stuff!\" and he takes my Wii remote and puts it in his pocket, my stuffed cow and my Wii U gamepad. He turns it on and kind of starts fucking with it and I start to panic because my stuff is being touched. After he leaves, I send a text message to my mom saying, \"he (my stepdad) keeps touching my friggin stuff and im afraid to speak up about it without him getting mad. it's a huge boundary of mine.\" She messages back saying \"what the fuck\" \"he's having fun and you're ruining it\". Then she tells me HE READ HER FUCKING MESSAGE and I hear start going off, cursing and mumbling to himself (this is something he always does when he's angered and it greatly annoys me and my mother). My mom then messages me with things like \"why do you always do this\" \"you shouldn't have said that\" and that he was having fun and joking around (which he doesn't really do with me). Now, he wants nothing to do with me and is angry with me. My mom is also upset but seems to want to move on from the situation but both of them aren't really speaking to me. My stepdad keeps mocking/mimicking me and bringing up what happened causing my mom to yell at him to stop and doesn't want to talk about it anymore. Now he gives me glares and does that obnoxious sigh thing when someone who doesn't like you sees you come around and now I feel guilty.\n\nI firmly believe this situation could've been prevented or not have happened at all but all I did was state a boundary and I upset everyone. my boyfriend, my best friend and her sister believe I'm not in the wrong and that my stepdad could've handled the situation better. So AITA? "
        ],
        [
         "64",
         "1jxr9tf",
         "Not the A-hole",
         "AITA for considering a business that competes with my friend’s side hustle?",
         "TL;DR: My friend runs a side hustle inspecting boats for buyers. I want to start a platform connecting people in our region with services like his, but he says it’s disloyal and feels like a betrayal.\n\nHi everyone,\n\nMy friend (let’s call him John) and I are both men in our mid-30s. We’ve been close friends since meeting in college.\n\nWe live in a region surrounded by water, so boats are very popular here. You can pick up a basic fishing boat with a small engine for a few thousand dollars. Think functional and modest, not luxury yachts.\n\nBoth John and I have always been interested in boats and engines. However, I’ll admit that John’s knowledge is much deeper than mine, which will be relevant in a moment.\n\nJohn works full-time but also runs a side hustle advising people on whether a used boat is worth buying. He’s built a solid reputation, and his clients seem happy with his advice.\n\nWhile I don’t have John’s level of expertise, I’m passionate about this topic and have been seriously considering starting a business that focuses on marketing these services and finding clients. My idea is to handle the marketing and connect clients with experts like John, leaving the technical advice to them.\n\nI brought up this idea to John yesterday for the first time, and he wasn’t happy. He said it felt like a betrayal and accused me of trying to create direct competition, which he thinks isn’t something a friend should do.\n\nI’ll admit I might not have thought of this idea if John hadn’t started his side hustle first. But I genuinely don’t think it’s unfair. To me, this feels no different than two friends applying for similar jobs in the same field.\n\nSome might suggest we partner up, and that’s a fair point. But I think we’re in different stages of life—he’s married with a 3-year-old, while I’m single and more willing to take risks.\n\nAm I the asshole here?"
        ],
        [
         "65",
         "1jxqsks",
         "Not the A-hole",
         "AITA for not inviting my dad’s partner to my micro “wedding” dinner, and for not reaching out to her first to explain why?",
         "Using a throwaway to not connect this to my main.\n\nMy partner and I are getting married this summer, and we’ve decided to essentially elope. We’re going to have a private ceremony just the two of us during our honeymoon. Not only does this align very much with who we are, so no one in our life is very surprised by this, but we’re also doing it because: 1. our families live scattered across the world and a larger event would mean leaving a lot of people out, and 2. We want to avoid drama.\n\nHowever, what we do want to do is get dressed up, take photos, and have a dinner together with our immediate families. So essentially, a micro non-wedding celebration. This is where the issues start.\n\nSo I told my parents I wanted to have this small event with just them, my partner, and my sister (not including their “new” partners). My parents went through a nasty divorce when I was in my teens, and for several reasons that I explained to them I wanted an intimate event just the five of us. My mom was fully supportive, saying she can understand why this would be so meaningful for me.\n\nMy dad understood too. But he wanted me to be the one to break the news to his partner (54F). I didn’t think I had to, because it’s not like I’m calling everyone single other family member who isn’t invited to explain this decision. But I said that if she’s upset she’s more than welcome to call me and we can talk about it. His partner is very sensitive, and we’ve clashed a lot over the years because I don’t think she’s ever been fully willing to understand the nuances of coming into a family after a divorce. Their relationship started shortly after the divorce, and she tried to parent both my sister and I (who were teens/pre-teens) from the get-go. But even though we’re not close, I’ve done my best to otherwise be welcoming and kind.\n\nWell, now he’s told her and all hell has broken lose. She’s completely beside herself, and he wants me to mitigate the issue and reach out. I’ve reiterated that she’s free to call me - if she can’t possibly understand why this is about me and not her (and I can understand she’s disappointed, but so is, I assume, everyone else) then she should reach out to me.\n\nAITA for not inviting her, and for not breaking the news to her, and for refusing to be the first person to reach out here to resolve this? I can kind of see my dad's point, who says I should be extra mindful of her since she is a sensitive person who has had a hard time accepting we're not very close and takes this personally. However, at the same time, I don't think I'm responsible for her feelings or for cleaning up this 'mess.' I also believe in the idea of “my wedding, my choice.”"
        ],
        [
         "66",
         "1jxqjp9",
         "Asshole",
         "WIBTAH if i don’t “match” with my family for pics",
         "a bit of backstory- the house i lived in consists of both my grandparents, my mother, & my little sister. my entire family is made up of narcissists and about two months ago i(17f) officially moved out against their wishes to live with my bf, & i had been staying with him for a year prior to that. i’ve never got along with any of them and never liked trying to do stuff “as a family” bc it always ends up in a fight. now they want to take family pictures.\n\nthe reason this is such a big deal to me is bc for one, im basically estranged to them- i only go there every two weeks or so to see my little sister & other than that i dont talk to them and they dont talk to me unless asking a favor. & im fine with it being that way but it fucks with me the way they still post on social media as if we’re all besties and always have been. \ni also do not “fit in” w them because i dress a bit more alternative per say, and they always want me to dress all girly and bright when that’s just not me at all. however for the pictures they are demanding that i match with them but they’re all dressing like they’re going to church and once again, that is not my style at all. i don’t feel confident or comfortable dressed how they’ve always wanted me to. today i went to try on some dresses for the pictures & i ended up leaving with some rock revival jeans and a black half button shirt with a white shirt layered under it, which is what i plan to wear for pictures. \n\ni already know i definitely seem like an ass and it’s gonna be a matter of “why can’t you just dress this way one time” but i honestly just don’t think it’s that important that we’re all coordinated, & quite honestly idgaf if we match or if i’m even in the pics at all. i’m just doing this to please them bc ever since i moved out it takes one time of me not being a pushover and they explode bc all they want is control over me and my life. and im just not trying to deal with all of their bs if i can prevent it, but i can tell you one thing- i will not be wearing a dress tomorrow.\n\nso yeah there’s my storytime id love to hear other opinions on the situation bc im pretty nervous to show up in my daily attire tomorrow, even tho thats the way i feel most comfortable, bc i know it will somehow turn into an argument like everything else does."
        ],
        [
         "67",
         "1jxqbst",
         "Not the A-hole",
         "AITA friend keeps aking for heritage (jokingly)",
         "So my best friend seems to have a midlifecrisis at 28. She thinks a lot about kids, I get that but she also talks about heritage and wills for about two weeks. Like that was all we talked about in two weeks.\n\nBefore she made jokes about me being her sugar mama, being godmother of her future kids and that they will be provided for, that I should put her in my will. I got the joke but it keeps on going and going... she tells me about laws if I do not have a will it will go to the state (which is not true) and so on and so forth...\n\nI did not have a car for three weeks and she drove me to several appointments I had to get a new one and I thought it was.. you know, something a friend would do. As a \"thank you\" I offered her to invite her to get some burgerking or whatever food she wanted (so we had a reason to meet because that is kinda rare too) and she said she'd rather have some gas money.\n\nFine, I get it. It shows me again it is not about getting together, it always seems to be about money now. I ask her to go to the cinema - she got no money to go, ask her to go get icecream - she does not have money. I would need to offer to pay for her to get her to do something WITH me.\n\nFor christmas I bought inline-skates. asked her about six times if she wants to go with me to inlineskate. asked to go on a walk, even with her dog, it is all free and does not cost money but she never really replies...  \nI am giving her options to do something together, even grocery shopping which we need to do anyways and I know she does it at the beginning of the month - nothing.  \nLast she said was \"I don't care about your money!\" (but she also mentioned I should put in my will that it goes to her lil sister)\n\n\\--------\n\n  \nSo today I send her a voicemessage saying I feel weird that it is always about money and that she keeps talking about giving her my money after I die (heritage). I told her that I am not thinking about a will and heritage right now and that's it but she kept talking about it. She got angry and now I told her I will not contact her for about a week so we can both cool off and then maybe get back together and talk.\n\n  \nI am not sure how to deal with it. Am I the asshole for telling her to shut up with her \"joke\"?  I get that she is my best friend for years, we can talk about everything but this made me feel really negative about her.  \n*I am currently looking to move away and she does not want me to but we don't even meet once a month so why would I? Why not let me move away and find new friends I can actually go out with?*\n\n  \nThank you for reading and answering, it is a lot of text "
        ],
        [
         "68",
         "1jxq5xu",
         "No A-holes here",
         "WIBTA if I refuse to pay the rest of the money I owe them for a trampoline",
         "Me (34f) shared the cost of a trampoline with our two neighbors that have kids. This happened after I mentioned that I was going to get one for my kids and one mentioned we should split one for all the kids to save money, and I agreed because it seemed simple, I offered to put it on my land but they made the decided to put it between there and I didn't mind. We all put it together and I paid half of what I owe already. We all get along and have no issues with being honest with each other, our kids are all fine with each other as well. We have only had the trampoline for about a week, and I am already getting frustrated. \nSo the issue I'm so unsure of how to proceed on happened last night. My son had his friend sleep over, and at one point many of the kids on the street were out and wanted to be on the trampoline, it got too crowded and I had my kids and their friend get off, but later I let my two kids and his friend go out with my husbands work flashlights to jump in the dark. Well they were outside for maybe 5 minutes, when my neighbor went outside and said they had to get off the trampoline \"as the owner of this property\", and wasnt very kind about it according to my son and his friend. She then called me and said not to be mad at her but she kicked them off because it's unsafe to be out of a trampoline at night. I kept quiet and said ok, and she asked to hangout and I declined nicely so we hung up. I am actually really mad about the situation and feel like she really over stepped. I don't appreciate anyone talking to my kids that way, we agreed to shared the trampoline, I helped pay for it, and I don't feel that my kids were really that unsafe (by the way I forgot to mention I was outside in the garage when they were out there). I feel like I don't want to pay anymore into the trampoline and just get my own, but I also just don't want to be petty. What would should I do? "
        ],
        [
         "69",
         "1jxpp8y",
         "Not the A-hole",
         "AITA for wanting my money back",
         "First ever reddit post. Never thought i'd end up here but i need some outside perspective. \nme (27, female) and 5 friends (all female, in their 20s) went on a trip together to paris. \ni am the planner friend, i found the airbnb, booked it, collected the funds from everyone etc. \ni love doing it, and dont expect anything in return.\n\nunfortunately all of us became very sick on the trip, during different days, i was the last one whom it hit.\nwe were planning on flying back home monday, but the airport striked, so almost all flights got cancelled.\n mine and my friends Pepes (name changed) was the only one leaving. \nbecause the rest of our friend group could only leave on tuesday we were looking for a place to sleep.\n My friend Joni tried to book our airbnb for another night but i didn't work. I thought since i was the one who booked originally i would just ask the host if we could extend for one more night on sunday afternoon, as i was sick i went to bed right after.\n\n we were supposed to check out on monday at 11, so when i woke up at 9, and saw that he had responded to say that we would stay another night, i booked it. i tried to see if anyone was up yet, but everyone was asleep and i thought well we all need a place to stay anyway. i texted everyone that could extend and everyone was delighted. \na few hours later my friend Joni and her friend Randy texted our group chat saying that i should have talked to everyone first before booking and that they did not want to pay for the extended night. i apologized and said that i understood that what i did was rushed. i told them if they did not want to stay at the airbnb that they could check out now, and find a different place to stay. that way they would not have to pay me. Mind you it was 50€ p.P so finding a cheaper place in paris is impossible. they decided to stay in the airbnb since it was easier for everyone.\n\n Randy said that her airline might cover the costs of the extra night anyway. She submitted everything but they declined. When i asked everyone to pay their share now, Joni and Randy refuse to pay or at least don't want to pay the full amount.\n\n They say i should have talked to them before booking, mind you i had a fever of 40 but i digress. I told them that they had the opportunity to leave and not have to pay, but they chose to stay and therefor need to pay me. i can't just afford to spent 250€ a night all on my own.\n\n maybe context is important but i'm not very wealthy, i'm on benefits and struggle a lot to get by, this vacation was a real treat to me. all over the other attendees are very well of, 50€ is not a lot to them. Am i the asshole here? i feel like it is totally reasonable to expect them to pay their share. \n\n\nedit: for more context, their reasoning as to why they don't want to pay is that they came up with a different plan while i was asleep. they were planning on going to a hotel, which the airline would have covered probably. the reason the airline doesn't want to cover the airbnb is because Randy forgot to add her name to the airbnb group, so her name wasn't on the invoice, which i did not know. "
        ],
        [
         "70",
         "1jxpp1p",
         "Asshole",
         "AITA for telling my girlfriend the truth even though it made her upset?",
         "It’s my freakin’ birthday. You’d think I’d get a little peace, right? Instead, I get hit with “your words are offensive” and “foul play” because I had the nerve to talk about my aspirations and who I’m tryin’ to become. I didn’t insult her, I didn’t yell—I just spoke honestly. And that’s apparently a crime now.\n\nShe says I’m supposed to lie down and keep quiet just ‘cause it ruffled her feathers. I told her, “Sorry for ya, but I thought hard about this before I said anything.” If my words offended her, then maybe they needed to. Not everything in life’s meant to be sugarcoated. John the freakin’ Baptist called people snakes and he didn’t lose sleep over it. I ain’t sayin’ she’s a snake—but I’m not gonna act like I’m servin’ dessert when I’m just speakin’ truth.\n\nAm I bein’ an asshole? Yeah, probably. But I’m an honest one. And guess what? If she wants someone to blow smoke and spoon-feed her pleasantries, there’s no shortage of sycophants out there. I’m just not on the dessert menu.\n\nSo yeah, AITA for being real instead of nice?"
        ],
        [
         "71",
         "1jxpoob",
         "Asshole",
         "AITA for making my daughter wear a dress to a party",
         "I have a daughter 15f who usually prefers dressing casual and generally doesn't like wearing skirts and dresses. I don't really have a problem with this usually as long as it's appropriate.\n\nRecently my daughter wanted to go to her best freinds sweet 16. I had no problem with this obviously I thought she already picked out something nice to dress in. But when she was about to go she was in literal sweatpants with a t shirt. \n\nI don't have a problem with her wearing that normally but not to a birthday party especially her best freinds sweet 16 party. She said it's what she liked wearing but I said no way she was not attending the party in that.\n\nShe has a nice blur drees a cousin gifted her a few months ago she never wore it through. I asked her to put it on because it would look good on her and she could match with her freind.\n\nShe refused for a minute until I told her if she didn't wear it just this once I'd start making her dress more feminine from now on. She ultimately agreed and wore the dress and had a lot of fun at the party. Apparently her freind really liked the dress too.\n\nBut my husband thinks I went too far so AITA?"
        ],
        [
         "72",
         "1jxpizd",
         "Not the A-hole",
         "AITA for Being Disappointed My Family Wouldn't Help Me When Very Ill",
         "\\*"
        ],
        [
         "73",
         "1jxp5hk",
         "No A-holes here",
         "AITA for telling my parents I won’t be coming home unless they let me sleep in the same bed as my bf?",
         "Hello all, for context, I (19F) and my bf (20M) have been together for 5, almost 6 years. I moved away for college about a year ago and live on campus with 5 other roommates in an apartment style dorm. \n\nMy bf comes to visit me at college every month or so, and we share a bed while he is here. My roommate’s don’t care and it is considered a normal thing considering he’s not a rando and we are in a long term, healthy relationship. \n\nOne time, when I went home, my bf accidentally (genuinely) fell asleep in my bed, no funny business. My parents woke up earlier than we did, and were upset that he slept in the same bed as I did. They say it makes them uncomfortable regardless of how long we have been together and that they consider it disrespectful. They went as far as getting his parents involved, who personally don’t care if we share a bed because they say we are adults. However, they don’t allow us to share a bed because my parents don’t approve and they don’t want to rock the boat. \n\nUpon returning back to college, I have made it a point to not go back home for quite some time and instead he comes to visit me more often. My mom asked me why I haven’t been home and I told her it was because I wanted to sleep in the same bed as my bf, and that no one has a problem with us sleeping in the same bed at college, so I might as well stay there. She got upset saying I was being ridiculous and I ended up telling her I would only come home if they “gave up on their ridiculous rule and let him sleep in my bed”. She has yet to cave. While my opinion remains the same, I am worried that maybe I was a little petty and unjustified, AITA? \n\nExtra Info:\n* both of our families know we plan to get married in the next several years\n* when he doesn’t sleep in my bed, he is either on the living room sofa, or he drives home at 1-2am\n* my parents claim that the reason is that we are not married, but they have no problem with (when my cousins stay with us) my cousins sleeping in the same bed as their gf’s. \n\n***Final Edit: Lots of questions were asked such as who pays for college and things of that sort. \n* I am on an academic scholarship which covers tuition, i pay for everything on my own via my job as a server. i work on the weekends while in school and during the summer when i go home, i work both during the week and every weekend to support myself better during the school year. \n* yes my cousins are male and they have been allowed to sleep in the same bed as their gf’s under the same roof as my parents (and grandparents) since they were 17/18. \n\nFinal remarks: Thank you all for your input (except for those who were just kinda hateful for no reason)! i made this post originally because i know i tend to make mountains out of molehills sometimes and i was afraid this was one of those times. after reading all of the comments i called my mother and apologized for being dramatic. we are on great terms once again thank to you all. "
        ],
        [
         "74",
         "1jxova8",
         "Not the A-hole",
         "AITA for my the animosity I have towards my soon to be MIL?",
         "My boyfriend (27) and I (25F) have been dating for 3 years. I have been the confidant to his family's drama which includes his mother who is very sweet but seems to not be able to keep a steady job, home, or relationships, even her 3 other kids have completely shut her out recently.  He wouldn't see her often, but she would call at any time, typically after drinks and always very emotional, hysterical or angry. It seems like every phone call to my boyfriend would turn into a “they’re out to get me” call that involved conspiracies and It seems she’s taking zero accountability for why these things happened. At first, he would get very infuriated on her behalf to whoever she called to complain about, and when I say infuriated, I mean fist balling up, huffing and puffing. As time went on,I was trying to teach him to relax a little more and not be so angry and hostile towards the rest of his family and he seemed to appreciate it. He was able to reconnect with his father and siblings and even considered making peace with his stepfather who he blames for all the things that were happening to his mom. \n\nRecently, she was doing better, even started renting a house with her daughter who she had also reconciled with until we learned that her daughter had moved out with no notice and his mom was left with a rent bill she could not pay. Because of this, she decided to pack her car and move several dates away to stay with us. It came as quite a shock to me since I wasn’t a big part of the decision making. It was more like I overheard it on speaker phone when she said she'd be down here in less than a week. I was happily willing to help her get back on her feet and have something stable for her for once but I didn't realize that this situation would bring up feelings that I'm not used to.The annoyance started with things being slightly rearranged in my home, new decor was added, and my kitchen cabinets, pantry and fridge can't seem to get put back the way I left it. On top of that, my boyfriend are young and have no kids so we like to spend our money on nice things, hobbies and good groceries, We have the comfortability and blessed option to live the way that we want to but his mom seems to judge us for it and make snide remarks about how we should be better about that and how she knows what real struggle is. We have as well and I dont think it's just of her to decide that I haven't been through “enough pain and struggle.” The thing that has me feeling the most uncomfortable is that she is staying in my boyfriend's game room that he will STILL stay in until 1AM playing while shein there as well. I'm not sure why this makes me uncomfortable. I hate these feelings but I've just been finding myself getting more and more angry and irritated when I'm home. I am hoping that we are able to get her job and on her way to her own apartment soon but until then, am I being the asshole for feeling so much unwarranted animosity and anger towards this his mom?\n\n"
        ],
        [
         "75",
         "1jxoapl",
         "Not the A-hole",
         "AITA for not going with the hair stylist my cousin chose",
         "Heyy guys so I’m 19 F and my cousin is 27F so here’s the situation my cousin offered to pay for my hair and my hair appointment as a favor since I will be taking care of her mom while she’s on vacation. Okay so now that you now that my cousin sends me a stylist and told me pick which one I wanted this stylist is a professional but I’m so used to my older cousin who does my hair doing the style that I wanted to get and I told my cousin B that I wanted to go with my cousin A who always does my hair she said no because my cousin is unprofessional but I told her it’s not about professionalism it’s truly just about my comfort and who I want in my hair. My cousin got upset and then said that she will not be paying for my hair or the installation because she rather I go to a professional. But the thing is my cousin A can literally slay some hair she just didn’t choose that route she’s a ABA. But not the point my cousin called me ungrateful and I did try to explain hey I’m not trying to be ungrateful just that’s my preference and that’s what I’m comfortable with but some how I still for like a ass hole because am I being ungrateful? I know lots of people would kill to get the hair done by a professional but just not me I like that fact I can go somewhere where I’m comfortable and familiar with. Oh lemme make something clear before I forget she’s still paying me for my services but the hair/ installation was going to be tooken out of my full pay. \n\nEdit: she said she will no longer be needing my services. I truly believe she no longer wants me to work for her because my cousin is the type of person if you disagree with her she will literally go off on you it’s like your not allowed to have your opinion if she don’t agree."
        ],
        [
         "76",
         "1jxo4w5",
         "Asshole",
         "AITA for wanting my girlfriend to move her dog to a different room at night, even though it’s been affecting my sleep?",
         "My girlfriend (32F) and I (31M) recently moved in together. We’ve been dating for about a year, and she’s amazing in so many ways. But ever since we moved in, I’ve been struggling to sleep due to her dog’s snoring. The dog sleeps in our room, right next to the bed, and snores loud enough to keep me up even with a white noise machine right next to my head.\n\nI’ve brought it up to her a few times—not dramatically, but just saying that I’m having trouble sleeping and wondering if there’s a way we could try having the dog sleep in a different room. Her answer has basically been no. She has a very strong bond with the dog (8 years old), and she says she doesn’t feel right making the dog sleep somewhere else. \n\nTo be fair, I’ve made a few changes myself, and she has been very accommodating: we keep the room colder for me, we run white noise (albeit because of the dog), and obviously she’s sharing her space with someone else. I get that this is a big adjustment for both of us. But I can’t shake the feeling that my needs are equally important (or less) than her dog’s. For context, I have a cat that sometimes sleeps with us, and I communicated that if needed, I’m more than happy to keep him shut out of the room at night (she’s allergic).\n\nI said that if the roles were reversed, I’d prioritize her sleep over my pet. She said that wasn’t a fair comparison, implying I didn’t understand the depth of her relationship with her dog, or that my relationship with my cat paled in comparison.\n\nI’m not asking her to get rid of the dog. I just want to be able to sleep, and to feel like my needs matter more than the needs of a dog. Much like I believe her needs matter more than the needs of my cat.\n\nSo… AITA?\n\nEDIT: Very early on, she told me sleeping in the same bed was non-negotiable. So for everyone suggesting sleeping in a different room, that’s been shut down. \n\nEDIT 2: Ordered earplugs."
        ],
        [
         "77",
         "1jxnz8f",
         "Not the A-hole",
         "AITA for getting my friend kicked out of the Minecraft movie for being disruptive?",
         "I (22 M) went to see the new Minecraft movie with about 6 of my friends (22, all male).\n\nFirst, let me add some context. As some of you may know, the Minecraft movie has been attracting a certain kind of “fratty” crowd to some of its showings. The infamous “chicken jockey” scene has been invoking these hooligans to be very disruptive to the point of ruining the movie experience. I am all for lighthearted fun, but some of the antics I’ve seen in videos have been downright heinous.\n\nMe and most of my friends all had a similar mindset, and all agreed to not do anything ridiculous during our showing of the movie. However, one of our friends obviously did not get the memo. Now, granted, he (like the rest of us) had had a couple beers beforehand, so we were all feeling a little loose. But, right from the getgo, he was hooting and hollering, and making a big ruckus. And, mind you, almost no one else was matching his energy. Some of the crowd found it funny, while others, let’s just say, did not.\n\nThis came to a head at the “chicken jockey” scene. Instead of screaming “chicken jockey”, he just screamed at the top of his lungs in a high pitched manner, with someone in the audience responding with a “Shut up!”. This was it for me. I got up acting like I was going to use the bathroom, but went straight to the front desk and reported his behavior. I returned to my seat, and a moment later he was kicked out of the theater.\n\nIt somehow got back to him that I was the one who reported it, and now he’s angry with me, saying he was just joking around and was humiliated from being kicked from the theater. Some of my other friends also believe I went a step too far by kicking him out, and should have talked to him directly instead of going to the front desk. What do you all think?"
        ],
        [
         "78",
         "1jxnsr6",
         "Not the A-hole",
         "AITA if boyfriend is trying to control my life and I don't want to hear none about it?",
         "Hi I'm a 20f and my boyfriend 22m, the situation started a month ago. I live in Canada so weed is legal but my boyfriend recently quit smoking cannabis and try to brainwash me into quitting.\n\n I know what you think weed is bad, but I feel good with it and have no problem dealing with my life. I work 40h/week in a factory, it's paying well and I save money on the side to pay my debt's and being able to give myself a little treat sometimes in the month. I pay a rent at my dad house, pay for my food, pay for my cats foods and other essential, I do my chores after my job, gives time to my boyfriend, my dad and my cat. Tbh, I have a lot of responsibility. \n\nMy boyfriend is unemployed (it's been almost 3 years), only does his room and smoke vape and cigarettes all day playing with his video games, and as I said recently quit smoking weed. I'm glad for him but recently he's harassing me with it and I can't live with someone who want to control me and can't even think for himself. He is now mad because I don't want his advice because I'm not feeling mad about my weed consumption. \nAITA?"
        ],
        [
         "79",
         "1jxnl8r",
         "Not the A-hole",
         "AITA for bailing on going to the movies with my sister and her friends?",
         "I (21F) and my half sister (28F) are planning on seeing a movie at the theater tonight. I’m currently staying at her new apartment this weekend for the two of us to hang out. I don’t get to see her too often since I live in the next state over from her. She asked me a few days ago if I wanted to see a movie, which I said yes to.\n\nMy sister is at a friend’s birthday party right now while I’m staying at her apartment. It’s been nice to enjoy the peace and quiet even when I’m by myself relaxing, and playing video games. My sister invited me to the party before I arrived to her apartment but I declined. I didn’t tell her this but I’m just not interested in going somewhere where I don’t know most of her friends and I’m just the odd one out. I know I would just be extremely uncomfortable and awkward.\n\nAnyway, the plan is that after her friend’s party, we’re going to meet each other at the movie theater. I’m not crazy about the idea of having to walk 15 minutes to get to the subway and then take a 20 minute subway ride by myself but it’s still manageable so I agreed to the plan. \n\nYesterday she told me that one of her friends is also going to the movies with us. I wouldn’t say it annoyed me but I was looking forward to just seeing the movie with my sister. But it’s still fine. I know this friend really well and like her so it’s cool. But this morning, my sister told me that another one of her friends is going who I don’t know well at all. This annoys me because one, she didn’t even ask me if it was okay that these people are going, she just made an announcement that they are. I figured it was just going to be the two of us from the start. I also have bad social anxiety which is why I didn’t want to go to her friend’s party in the first place. Now I’m really not looking forward to going to the movies because the dynamic changes completely and I feel like my sister thinks it’s not good enough to just see a movie with me so she has to invite other people to go. Also, the whole point of me coming to her at her apartment is so I can hang out with HER. I didn’t come for any other reason. And if she’s going to see her friends at the party, I don’t understand why she also has to invite them to the movie that same day. Now I’m weighing either telling her that I don’t feel good or that I’m too comfortable or tired to leave the apartment to meet up with them.\n\nI don’t mean any disrespect to her or her friends. I want them to have a good time at the movies. I just know that I’m not going to have a good time myself so I’m dreading going. The plan was to also have dinner before the movie so there’s the added stress of that social intersection with her two friends that are going, as well. She already paid for my ticket online but I’m sure she can get refunded. So WIBTA if I bail on going?\n\nUPDATE: Thanks to everyone who replied. It motivated me to face my anxiety and go to the movies. It ended up being okay. I’m still not thrilled with my sister’s actions but I’m glad I went. "
        ],
        [
         "80",
         "1jxmrqq",
         "Asshole",
         "AITA for scaring people at the beach by yelling “shark”?",
         "Today has been a really tough day as what was supposed to be a fun prank turned into something a lot bigger. We arrived in Florida on friday and yesterday was our first full day. The beach we were at was pretty busy and there were lots of people hanging out in the water. My buddies and I had had a bit to drink and wanted to have a laugh by pulling an innocent prank. The four of us started screaming “SHARK!! SHARK!” While running out of the water as fast as we can. We didn’t even think most people would notice but within 30 seconds almost everyone in our sight started running out of the water, screaming as well. As we watched everyone from little kids to older folk get out of the water we quickly realized what a big mistake we made. Children crying to their parents. There were a few minutes of confusion and people looking out into the water for the said shark when we decided it was best to pack up and get out of there as quick as we could. We ended up walking to a second location to wait for an uber, no idea what happened at the beach after that. We meant it as a joke but feel a bit bad as literally everyone we could see in the water ran out out screaming."
        ],
        [
         "81",
         "1jxm2p4",
         "Not the A-hole",
         "WIBTA if I blocked access to a Google Sheet with lab data from my group members who haven't done their part of the work for a month?",
         "While the project/report isn't necessarily a group project, we had agreed to share data from a lab we did as long as I organized the data better and then they'd made the graphs/tables needed. It's been over a month since then and no edits have been made since I organized our data despite the report being due tomorrow. Yeah it was stupid of me to trust someone else to help with something that wasn't really a group project but it was something we agreed on doing and as of yesterday they still claim they will do the work.\n\nI'm thinking of blocking them from having access to the organized version of our data and giving them the excel sheet we typed up during lab (since we did do that part together at least). WIBTA for that? Seems only fair at this point since I did my agreed upon part of the work but they never did this whole time."
        ],
        [
         "82",
         "1jxleya",
         "Not the A-hole",
         "AITA for not telling my mom why my dad doesn't want to talk to her.",
         "I'm 27f, my mom is 53, dad is 60. My mom and dad have been split up for almost 2 years now, still working through getting divorced. My dad isn't talking to her though, he has tried but majority of the time she is just toxic and mean to him. She's blocked since October, and he's using 3rd parties to communicate and to give papers/items. I know my dad isn't lying, I've dealt with mean mom many times, having a calm, cool discussion with her can be pretty difficult. \n\nShe always acts oblivious and clueless of why she is blocked, whenever the topic of my dad comes up she says \"I just don't understand why we can't talk like adults\". Her being blocked by him shouldn't be my issue, but she vents to me about it as if it is and it feels so awkward. I never do participate in talking about it, but I can't never even mention my dad without her pouting about him not wanting to talk to her. She asks about him often, but I always keep it vague because I know if I'm too honest she will get mad. \n\nMy dad is getting ready to sell the house, and my mom really wants to help. She has been asking more about my dad, asking why he doesn't want to talk to her, I know the answer, but I just tell her that he just doesn't want to talk. I know if I tell her that he thinks she is toxic and mean... I don't think it's the children's responsibility to send that message. But she keeps asking questions, wondering if I should just be honest... Am I the asshole?"
        ],
        [
         "83",
         "1jxkm21",
         "Not the A-hole",
         "AITA for wanting my husband to choose our kids over his mom for Easter",
         "My husband booked a course for the Friday +Saturday of Easter weekend without realizing his mother’s birthday fell on Easter Sunday. \nFast forward to March I realized the dates all lining up and was trying to find a solution for him to do his two day course, fit in an Easter dinner, a birthday dinner, and when the Easter bunny comes for our two young kids (3&5) My in-laws live 2.5hrs away, and there is no way I can let my kids do a chocolate egg hunt, have chocolate for breakfast and put them in the car for almost three hours wired for us to visit his mom on Sunday on her birthday/ Easter. \nI suggested we will do my family’s dinner on Saturday, then Sunday do easter morning for the kids and invite his family to come to us for brunch so my kids naps and sugar crashing can be delt with accordingly. He agreed on the plan , then last week he tells me he ‘forgot’ to invite his family here for Sunday and now his mom is expecting us there Sunday. I said well then we have to do Easter morning with the kids on Saturday then but you have your course, don’t you want to be here for that experience with the kids? and he said yes so he will cancel the course and since it’s enough notice will get refunded the cost. \nNow a week before Easter being today I’m on the computer with his emails open and I see that he just submitted the confirmation that he will be attending the course next weekend. \nSo I know come Thursday he’s going to lie and say he couldn’t get his money back ect. Knowing how this is all going to go ( we have been together for 18 years ) I’m ready to tell him that the kids and I will not be going to his parents house on Sunday and we can visit the weekend after when we have less things going on. AITAH ? \n\nEdit to add- My mother in law knows about the course he is on Friday and Saturday and knows the only day we have together as a family is Sunday but still expects us there. Didn’t ask what our plans were and if we would be able to come, just said Easter and my birthday dinner is at 4 on Sunday see you guys then. "
        ],
        [
         "84",
         "1jxjpig",
         "Everyone Sucks",
         "AITA for insulting (24F)  a friend (28M) after an argument?",
         "\nI (24F) moved back home two months ago after living abroad for years. A friend (28M) invited me to his brother’s birthday party. This friend often acts like he’s always right, and is very charismatic \n\nAt the party, I saw a guy I didn’t like. While my friend and I were eating outside, I casually mentioned that I didn’t like this guy. I didn’t say this to complain or ask my friend to do anything; I just wanted to start a conversation because I trust him and we’ve known each other for years.\nMy friend responded condescendingly, saying I was always involved in \"teen drama.\" I asked him what drama he was talking about, esp since I had just returned from abroad. I explained that I was only talking about this guy. Btw my friend didn’t even know him.\n\nThen, my friend brought up an old conversation from when we last saw each other 2 months back where I mentioned being ghosted by a guy after we hooked up. I felt comfortable sharing this with him because we’ve been friends for years. My friend then suggested that complaining about being ghosted was immature and “teen drama.” I disagreed and told him that ghosting happens at all ages. I also told him I felt he was being condescending \n\nMy friend started making generalizations about women not handling rejection well, claiming that’s why some men ghost. I told him it’s not just about women, and that a lot of men are acting weird. He got upset, raised his voice, said that women were no saints. I called him out on raising his voice at me, then he said that whenever I raise my voice, I’m emphasizing a point, but when he does it, he’s a jerk. I asked him when I’d ever raised my voice at him. The conversation turned into him lecturing me, arguing that my feelings were wrong, and condescendingly debating every point I made. He then said that friends are supposed to tell each other the truth and that I should just deal with it. I told him that friends should also respect it when a friend tells them something hurts.\n\nHe claimed my conversations with him often focused on men I had problems with, but that wasn’t true. We talk about many things, and he himself discussed his own failed relationships with women. Also, the conversations are usually him talking at me.\n\nEventually, I told him I wanted to leave, and he didn’t seem to care. I left the party, and my cousin picked me up. Later that night, I texted him to explain how his behavior made me feel and called him a jerk (I know I shouldn’t have). He responded with, “Okay, that’s fine bye.\n\nA few days ago, this friend also told me that I was “stupid sometimes” but “very intelligent” other times. He said this after I asked him a question to clarify something he was saying. I got upset, and he responded that he wouldn’t apologize because he didn’t want to deal with my “tantrums.”\n\nNow, I feel conflicted. I know I shouldn’t have insulted him via text, and maybe I made this more serious than it was. So, AITA?\n"
        ],
        [
         "85",
         "1jxjoc2",
         "Not the A-hole",
         "AITA for ditching my family on my birthday?",
         "long story short. \nI’m turning 25. \n\nEvery time my family members have had a birthday, the person whose birthday it is gets to choose dinner and we all come along. Even my 6 y.o niece got to pick- which is fine. It’s their day. \n\nI’ve always participated and gotten them gifts they’ve mentioned wanting. I don’t really feel particularly close to any of them for many reasons, but figured I’d at least try on my part. I’ve always gone over budget (concert tickets, expensive collectibles, etc) and it’s always been received well.\n\nI already do a lot of favors for them I don’t necessarily feel like. Watching their houses when they’re gone, taking care of their pets, listening to their problems and helping with tech or whatever.  \n\nI don’t exactly pick pennies. I don’t really care since I live alone and I’m paid decently. It’s not about that- but when my day comes around, they’ve managed to scrounge together a bottle of hair oil and a gift card, and my parents announced they’d already bought groceries for dinner without asking me. \n\nI got extremely upset and asked my mom why everyone else gets to pick and I don’t, and she just says it was my dad’s choice, who then says my sister said I “had no plans,” which is a lie. They keep tossing the ball to each other and shrugging it off. My mom gets pissed and says she already blew 100$ on groceries - which I didn’t ask for, to make something they know I don’t like. \n\nShe then gets cross with me and says if it’s not good enough, I can just pay for everyone to go somewhere else. That’s never been part of the tradition before. We’ve always paid for our own meals, except when someone offers to host and make dinner. It’s worth noting that last year they didn’t bother coming because they “didn’t feel like going” due to “jet lag”… after flying 2 hours.\n\nIronically, the only one who put any thought or care was my 6 y.o niece who painted a flower as well as you’d expect a 6 year old to in my favorite color. It’s obviously going up on the wall at home. I ended up ditching them and getting McDonald’s with her alone.\n\nNow they’re all telling me I’m selfish and ungrateful. My mom wants me to pay back for her groceries. I’m kind of considering just ghosting them for a while. \n\nAITA?"
        ],
        [
         "87",
         "1jxh3kc",
         "Not the A-hole",
         "AITA for asking my girlfriend to take the public transport?",
         "She is having her themed dinner and dance, and I offered to drive her to the location in town. I told her I will pick her up at 5.30pm because any later and I will be stuck in the peak hour traffic jam on the way back home, and she should take the public transport instead if she wants to leave later. The public transport takes at most 30 minutes with about 5 to 10 minutes of walking.\n\nCome 5:20pm, she said that she needed more time for make up and preparation, and she was finally ready at around 5.40pm. I told her to take the public transport instead and she was upset.\n\n\nGirlfriend is habitually late and she said that being a few minutes late is no big deal and as a couple I should demonstrate my love for her by waiting, even if I have to wait in the traffic jam for an hour on the way home after dropping her off, when the journey is usually about 20 minutes. She had to take off some dress items and put them back on at the D&D because it is embarrassing for her on the public transport. AITAH?"
        ],
        [
         "89",
         "1jxfpqe",
         "Asshole",
         "AITA for telling my boyfriend it’s weird that he would rather stay at a party than drive us back home",
         "My boyfriend (26m) and I (25f) live together in the city and were planning on going out to the suburbs with 2 of our friends for another friends bday party. It’s about an hour - hour fifteen minutes of a drive for us. The plan was for me to drive there and for him to drive back since we share a car, and that way he can drink in the beginning of the night, and I could drink later on in the evening. We ended up staying  pretty late in the suburbs (till around 3 AM) and didn’t get home till 4:30 AM. On the drive home, he mentioned how he wished he could have stayed there longer since he was meeting people and having a good time, but since me and my other friend from the city were tired, he had to leave since he was driving. I told him that I was pretty sure the host and his girlfriend were tired so they probably wouldn’t have wanted us to stay super late, but he said that wasn’t true because I guess the host asked us to stay longer when we decided to go (which I thought was just a formality but I guess I don’t know for sure) during the conversation he said he wished I could have driven home and he could have stayed, spent the night (literally on the floor, because the host and his girlfriend were going to be in the one bedroom, and someone else was already planning on taking  the couch) and took the train back in the morning. I thought this was absurd because he was already tired when driving home, so really how much later would he really have been awake at the hosts house anyway? So I told him that would be so weird if he stayed and I left, especially so late at night. I’m trying to pinpoint exactly why I felt upset by him saying this, but I guess I just feel like since we’re a couple, and we made a plan to come home to our house  together and for him to drive, I feel upset that he would have been ok with me just driving back in the middle of the night all the way back to the city. Of course this is a hypothetical situation, but it still made me feel upset. He said that it would be selfish of me to feel that way because if I was having a good time somewhere, he wouldn’t force me to go home with him just because he wanted to go home, and he wouldn’t mind going home himself. While I agree with that if we were just visiting some friends in the city, i feel like if the roles where reversed and we were in the suburbs and it was such a long drive home in the middle of the night, I would obviously go home with him if he was tired even if I wanted to stay. The whole situation just made me feel like he didn’t care about me, or my wellbeing / safety . Idk, am i being sensitive and overthinking this ? AITA? "
        ],
        [
         "90",
         "1jxf78q",
         "Not the A-hole",
         "WIBTA if I didn’t go to my brother’s destination wedding?",
         "My (30F) brother (27M) has announced that him and his fiancé are planning to get married in Hawaii next year. Where we currently live, flights at the moment are about $2.5K return. My husband (30M) and I have 2 children, which are also invited, so we would be looking at close to 10k just for flights alone. \n\nWe have a pretty solid income, however, with the cost of living we are (comfortably) just getting by. On top of flights, we are also considering costs such as passports, spending money, pet boarding, covering home expenses while away (rent, bills, etc) if we were to attend. To top things off our current lease is due to end just after chrissy so we are currently saving to make the moving process less overwhelming. \n\nWhen I tried to talk to my brother about this his response was “you only need to save $200 a week to get flights”.  My partner is not worried because my brother and his fiancé had a pretty public (family group chat) and nasty fight the other week when the fiancé had spent her car registration money on flights interstate to visit our mum. So my partner believes they will change their mind. \n\nI don’t know what to do or how to even begin potentially saving for this wedding. If we all go it will practically send us broke. If only I go, I will be berated about why I didn’t bring the children; I also don’t want to be away from my family that long. If I don’t go at all, I’ll never hear the end of it. \n\nAm I being unreasonable? "
        ],
        [
         "91",
         "1jxe4bm",
         "No A-holes here",
         "AITA for disagreeing that I shouldn't wear shorts because a girl finds me wearing them uncomfortable?",
         "Hi all,\n\nI am someone who always has been wearing shorts my whole life. I've always worn shorts every weather, going gym, out, training, anything.\n\nSo today my cousin messaged me and told me not to wear shorts tomorrow (we are all meeting up at her place) and I asked why. He told me his girlfriend finds it uncomfortable that I wear shorts. I don't mind not wearing shorts as its her house at the end of the day.\n\nI ended up messaging her asking to better understand her. She told me she \"personally has felt uncomfortable\" when I have worn shorts because of the positions I sit in. She said it shows my thighs and a bit more higher up. Which I was like what the heck, my shorts go up to my knees but okay. She didn't know how to tell me so told my cousin to tell me. She said she wanted to tell me from her perspective but also said she's not looking there directly but when seen by accident she's had to look away - WHAT THE HECK DOES THIS MEAN? my shorts go up to my knees literally.\n\nI have worn shorts in front of her SEVERAL times, I literally wear shorts all the time. I just found it so weird.\n\nSo I spoke to one of my other cousins - he said that if a girl said me wearing shorts makes her uncomfortable I need to \"firm\" it and stop wearing shorts. I was like wtf?! He said I'm not being a man and if I made someone uncomfortable I need to compromise. I said that is this not similar when a guy tells a girl not to wear like a crop top for example and he ended up saying they are completely different with crop tops being normalised, for girls to show guys like it, its natural, etc. He told me to say sorry I made her uncomfortable and all.\n\nHe was saying that I am not being a man and if I don't care that I made a girl uncomfortable and not willing to change then he doesn't know what to say - I was honestly like so baffled as he just kept saying that I need to change and stop wearing shorts, just deal with it and stuff and say sorry.\n\nWhat do you all think? AITA for completely disagreeing? I am happy to not wear shorts as its her house end of the day. But telling me not to wear shorts cos you are uncomfortable is crazy no? Why do I need to change what I wear to accommodate someone else? Am I being the asshole and arrogant here?\n\nEdit:\n\nHi all - Thanks for the responses! Quite an eye-opener.\n\nTo clarify couple things:\n\n\\- Yes I do wear underwear underneath - no way on earth that I never don't.\n\n\\- A lot of people are calling me the asshole because they think I am showing my junk purposely - absolutely not. No way on hell. No. That is disgusting and no.\n\n\\- Lastly, majority of the comments are saying my genitals may have been showing because of the positions I sit in. HOWEVER why I am confused is I have worn those shorts several times in front of my friends and family, sitting on the coach, swing, grass, floor, etc. If my genitals had ever shown - I would be told 100%. I would also 100% know too because even when sitting in any position, I make sure to adjust my shorts.\n\nMy family would 100% tell me that they can see. I have had this shorts for time and worn them SEVERAL DOZENS of times. No my genitals are not showing AT ALL. I wear underwear under too.\n\nIn the case that I am wrong - I have worn this shorts for timeeee. No one has ever told me anything. Just to experiment I have worn that short and sat on my chair across the mirror to see. Even when trying it shows NOWHERE near my genital area. If anything the max it shows is my upper quads.\n\nAlso, recently we all met up and were chilling. There we so many of us and I wore that shorts and sat on the sofa - HOWEVER no one even said anything and I 100% would have been told. The girls would have mentioned it too 100% but have not even. I asked one of my friends if they have ever seen anything or the girls and he literally said no they haven't mentioned anything at all. Also he has sat across me many times and would 1000% tell me literally.\n\n\\- I have asked my friend literally and he has said no like I mentioned. All I was told is - Because I have made her uncomfortable, I shouldn't wear shorts. That is all. I have not been told by my cousins that I have ever exposed myself. It is literally just 1 person - the girl saying it.\n\nThis is why I thought it was weird.\n\nBut everyone thank you very much for your responses. Will be more mindful when I sit."
        ],
        [
         "92",
         "1jxdqtj",
         "Not enough info",
         "AITA being angry because my girlfriend's mother doesn't want to treat the cat for fleas",
         "My girlfriend (25F) and I have been together for almost two years, and we regularly argue about her mother's behavior. This discussion has been coming up since last summer: My girlfriend's cat, which lives at her mother's, has fleas.\n\nAnd I don't understand how this situation is still happening. The cat has had fleas for almost a year, and it's a delicate situation because her mother is disabled and economically disadvantaged, so she can't do much during the day, and taking care of the cat takes up a lot of her energy.\n\nHowever, she's already implied that she wants to get rid of the cat and is therefore being very passive, as if the situation isn't a problem. My girlfriend tells me she's tried various solutions, but because of her inaction and her passive attitude, the situation has worsened, and he caught tapeworm from eating flea eggs.\n\nEveryone is taking pictures of him, making videos, giving him hugs, and sweet nothings, as if everyone is ignoring this situation. It's driving me completely crazy. What's more, my girlfriend's sister, who has money saved up and lives with her mother, isn't funding any treatment and isn't trying to improve the situation.\n\nWe're going to be spending three weeks at her parents' house soon, and I said yesterday, \"Your cat has had fleas for almost a year, and we're the ones doing the research, buying the treatment, and having to take care of it when we arrive. I think it's crazy to be so incapable, it's driving me crazy.\" To which she replied, \"You can't blame my mother; there are a thousand reasons why he has fleas.\" I stopped the conversation because I knew she wouldn't get anywhere. I don't understand why she's trying so hard to defend her mother, to defend this situation when she has such a bad relationship with her.\n\nTldr: My girlfriend's mother doesn't want to treat the cat's fleas, and it's our responsibility to do so if we don't want to live in a flea-infested place.\n\nAm I the asshole ?"
        ],
        [
         "93",
         "1jxcp4t",
         "Everyone Sucks",
         "AITA for fucking with my co workers car?",
         "So, I work at Applebee’s as a server. It was pretty slow one night, and we were near closing. My coworker decided to mess with me and put a bunch of “to-go” stickers on my back. The stickers are about the size of a cup coaster, and he put like 19 of them on me. Yes, I’m that oblivious.\n\nAnyway, when it was my turn to clean the restrooms, I thought it would be funny to get 20 of those same stickers and put them all over his front windshield. I didn’t think it would be dangerous or anything—just something to mildly annoy him.\n\nAfter my boss sent me home, around half an hour after midnight, I got a call from my coworker. He didn’t sound like he wanted to kill me, but he was definitely upset. Long story short, he said I crossed a line. As he’s telling me this over the phone, I’m already driving back because I genuinely felt like an asshole.\n\nWhen I got there, I saw him walking to his car and told him I was truly sorry. I explained that I honestly thought it was just a funny prank. I tried to give him $70, but he only took $50, saying he could tell I actually meant the apology.\n\nI’m working the same shift with him later this week, so I plan to give him another $50 and a little sticker removal kit I found on Amazon. He said he was mostly upset because he was worried about scratching his windshield—but honestly, I don’t even know if that could really happen."
        ],
        [
         "94",
         "1jxbibg",
         "Asshole",
         "AITA for leaving my partner to suffer with a migraine and vomiting all day/night",
         "My partner recently came down with a migraine and was bed-bound and had 12 + hours of vomiting. They were not able to eat or drink anything or take  painkillers. I was working all day so didnt really keep track of what was going on with them. I also had a work event that night. When I got home after work, I asked my partner if they wanted me to cancel the event and they said no. Before I left, they did ask me to call the Dr to make an emergency appointment for the next day. The dr was on loudspeaker and expressed concern and said they wanted my partner to come in that evening because of the vomiting and dehydration. It was clear my partner was unsafe to drive but an appointment was made the next morning. I went to my event and didn't think anything about it. I got back about about 8 hours later. My partner is now upset upset because I didnt check in or contact them to see if they were ok. I don't think I needed to because they hadn't communicated that they wanted me to check in - so it's kinda on them. AITA"
        ],
        [
         "95",
         "1jxbgj8",
         "Asshole",
         "AITA for backing out last minute from another group's project help because we felt shy and unsure?",
         "Our class was divided into three groups for a group project. Let's call them Group 1 (us), Group 2, and Group 3. This issue only involves us and Group 2. Group 3 isn’t part of the conflict.\nWhile we were discussing plans for our project, we were hanging out with friends from Group 2. Some of them were around during our group meeting, just sitting in. At one point, we brought up a need for a location for a part of our project. Some members from Group 2 casually suggested we could use theirs.\nWe were shy about it, so we kept double-checking if they were really okay with it. We never gave a solid \"yes\" to joining them we were always unsure and polite, not committing. \n\nAside from the location, there were also talks of both groups helping each other with certain project parts, but again, nothing official.\nAround 4 days before the event, they mentioned that the location might not be confirmed and was still uncertain. So as a backup plan, our group started looking for other possible locations just in case.\nDuring this time, Group 2 kept asking us if we were still pushing through with the plan. It kind of made us forget the original idea of mutual help between groups because we thought the location and the help were still up in the air. We also thought we still had the choice to say no.\n\nTwo days before the shoot, we decided to back out. We felt that each group should be independent when it comes to responsibilities, and we were also still feeling shy about tagging along too much in another group’s work.\nAfter we backed out, Group 2 seemed confused and a bit upset. Apparently, they were counting on us, especially for the part that needed our help. But we were confused too. if they really needed us, why keep asking if we were going? We thought it was just casual or optional. So AITA for backing out last minute? "
        ],
        [
         "96",
         "1jxay4n",
         "Not the A-hole",
         "AITA for telling on someone that was lying",
         "My partner’s cousin (Sara), myself and their other cousin’s girlfriend (Jane) are in the same social circle as we are related through our partner’s family. Sara has been making jealous and rude remarks regarding Jane and their children, we have been stuck in the middle hearing Sara make these statements as we luckily don’t have children. \n\nAs Sara and Jane live closer together and share children of the same age, they are always hanging out together, which I find strange as Sara constantly makes rude remarks about Jane and her children but not to her face. To keep the family peace we have not shared these comments to Jane nor her boyfriend. I have shared smaller rude comments that Sara has made about Jane’s children to Jane. Jane’s bf and my fiancé have all had known issues with Sara on various occasions but it seems to be their family norm to ignore, she is known to talk badly and never admit to her faults. \n\nRecently it went too far as Sara blamed Jane’s kids for breaking a high value item. Neither cousin nor their partners were present during the situation but myself and the aunts (Sara’s mother and Jane’s MIL) were present. After the event cousin Jane’s mother in law, aunt to Sara, asked me what I saw about how the item was broken. I supported her telling her it was not her grandchild’s fault as it happened in front of us but she was misled into thinking noone could truly see what happened  (Sara was blaming Jane’s child but only behind Jane’s back.) Jane’s mil got very upset as she’s used to being gaslit into thinking things happened differently and after hearing my supporting description, she had a discussion where Jane  texted Sara upset about the blame. Sara denied as usual. \n\nSara, after dinner and drinks with all cousins pulled me aside to ask what was said when I visited Jane’s mil. I explained to her that she wanted to see my point of view on how the incident happened, which I explained how her child caused the accident.\nSara was focusing on wanting to hear if I had told Janes MIL that she had blamed them, which I did not discuss, but she did in fact do. I am now bothered at how I was made to look like the asshole in the situation. I felt blindsided , she knows she’s been talking badly about Jane and feel that was my opportunity to discuss it with the group but as I wasn’t expecting it, I didn’t air her out as I should have. I still feel like contacting Sara to reassure her that I do remember the remarks she made and how she did in fact blame Jane’s child but it also feels useless as I know she will deny as usual and it is ridiculous to me to stoop to a liar’s level and explain to someone who is trying to gaslight that they said something that they know they said. We are inevitably going to continue in this social circle but I feel even less comfortable than I did before. What would you all do? AITA? "
        ],
        [
         "97",
         "1jxafyd",
         "Not the A-hole",
         "AITA for yelling at my (25F) boyfriend (25m) for putting himself in danger",
         "My boyfriend and i don’t live in the same city. He usually takes the bus home from work and suddenly he messages me tonight that someone is following him. I called him and he says that some sketchy guy looked like he was getting too close to him on the bus with his hands in his pocket. He didn’t want this guy following him home so he got off at the next stop at a college campus. The guy follows him off the bus and follows my bf again onto another bus getting uncomfortably closer. At the next stop my boyfriend runs to a restaurant and somehow he loses the guy but doesn’t know exactly where he went and that’s when I call him. I tell him to take a Lyft home so no one can follow him home on the bus. I kid you not, he insists on waiting for the next bus to another location to “investigate” what this guy’s intent is. In my head, you either call the police or get the heck out of there. I tell him that’s a bad idea because this guy will probably try to jump him if he sees him again. He starts arguing that by that logic he will have to start taking a Lyft everyday because this guy will be waiting and looking for him on the bus at the same time every day. I think even if this guy intends on finding him again another day, it would still be better to get out of there now so he can’t follow you home. Again I kid you not, we argue back and forth about this for 10 min, and I got so frustrated so I yelled at him “this is the worst logic”. Well he didn’t take that too kindly and so he gets butt hurt and proceeds to hang up on me and block my calls. I freak out because I won’t know if  he’s okay or not. He finally answers my call and says he took a Lyft home, says nothing else and blocks me again. I call him around 20 min later and he says he is home. I tell him how upset I feel that he blocked me because I was just worried about his safety. He tells me I wasn’t helping and he could’ve found out this guys intention. He blocks my calls again and I haven’t heard from him since.\n\nIs it just me or is this immature behavior??? I felt like he was just trying to play detective. If he really felt in danger he should’ve called the police or get out of there, not try to “investigate” and give this guy another opportunity. \n\nOr AITA? Am I just being insensitive? Honestly he doesn’t have a good sense of danger sometimes so that was why I was getting upset that he would put himself in danger like that. I don’t know, any perspective is welcome."
        ],
        [
         "98",
         "1jx9zhs",
         "Not the A-hole",
         "AITA for making a frozen dinner for my boyfriend after work?",
         "so me (20F) and my bf (24M) been together almost 2 yrs. we got a 7 month old baby girl & i stay home with her while he works. sometimes me n the baby go to my moms just to chill or whatever while he’s at work. i do most of the cleaning n baby stuff, make food, all that.\n\nhe works security at a hospital, 12 hr shifts 4 days a week, leaves at like 7am and gets home around 7pm. in the mornings i usually make him something small before he leaves, like fruit or toast or cereal. nothing crazy, just quick stuff. I do pack his lunch for him the day before so he can just grab it and go\n\nanyways, on wednesday i was feeling super drained. the day felt long as hell and i just didn’t have it in me to cook a whole dinner. so i just made one of those frozen tv dinners for us. steak, mashed potatoes, corn. I know it’s not the best thing ever, but he has eaten them before and hasn’t complained (yes i cut it up for the baby)\n\nhe came home, saw what i made, and just walked into our room. i thought he was changing but he never came back out. i went to check and he was mad. said after workin 12 hrs he expects a real cooked meal and that i don’t think about how he feels when he gets home.\n\nlike… i get it, i really do. but i’m tired too?? i got a baby hanging on me all day, cleaning the house, running around. some days i just don’t got the energy to be in the kitchen making a full meal.\n\nnow he’s been avoiding me and bringing back fast food instead of eating at home.\nAITA for giving him a frozen dinner instead of cooking from scratch?"
        ],
        [
         "99",
         "1jx9nhf",
         "Asshole",
         "AITA for how I hung up a phone call?",
         "Coming to the good people of Reddit for some perspective.\n\nSignificant Other called me to discuss a personal matter while I was at work. I did state that I was at work and implied that I was on call for a client. We spoke for a few minutes. When my client walked in on the conversation, I hung up and texted SO when I had the opportunity.\n\nSO said that it was disrespectful and uncivilized to just cut the call. \n\n "
        ],
        [
         "100",
         "1jx9keh",
         "Asshole",
         "AITA for yelling at my wife for starting a hobby without me?",
         "Posting on throwaway as I'm not sure if she will see this. A couple of days ago I (28M) and my wife(26F) went to a craft store. She found a good deal on large fluffy yarn. She has always said how she wants to make a big fluffy crochet blanket. So she got a few bundles. \n\nI learned how to crochet from my grandma years ago. My wife has seen me crochet before and knows I know how to do it. She had suggested that I could teach her how to crochet after I am off work this weekend. She works a different shift then I do so our schedules line up sporadically. I was more than happy to teach her. \n\nToday I got home from work and found the packaging in the trash. She worked a later shift today so I didn't bother her while she slept. When she woke up I saw that she had already started without me. She had been bored and decided she would try on her own. She said she messed it up after the first few rows and will need to start again. I was very upset and angry. \n\nI keep crocheting because my grandma has since past away so I feel close to her every time I'm working on a project. This cut deep emotionally. I feel betrayed and not like I was valued in this. She tried to downplay that it was a big deal and that I was overreacting because \"I messed it up so I'll have to start over again\" and \"You can show me how to do it when I start over again\". I was really looking forward to spending time with her and showing her a skill I learned from family. I'm confused if I did overreact and it's not as big as I am making it out to be. Any advice is very much appreciated. Thank you for taking the time to read. \n\nTL:DR My wife (26F) started crocheting from a video online after she asked me (28M) to show her how to do it as my grandma (who has passed) shower me how to. "
        ],
        [
         "101",
         "1jx9j1u",
         "Not the A-hole",
         "AITA for not allowing my husband to use my mom’s ring",
         "A little bit of background. My mom had an affair for YEARS with a good family friend. After my parents divorced over it, she stayed with him and my sister and I lived with them because it made more sense to be with our mom. I was 15 at the time and my sister was 19. They got engaged but it didn’t end up working out. It was a weird time in my life and I have very negative feelings towards him. \n\nFast forward almost 25 years. I’m married with kids. Have a gorgeous wedding band/engagement ring that I love. I break my ring finger this past fall. In the ER they had to cut my rings in pieces. Very sad, but the rings are salvageable. I had to get surgery on the finger and the surgeon told me to wait a year to fix my rings because it would take that long for it to go back to its normal size. \n\nAfter the surgery, my mom calls me and tells me that she still has the engagement ring from that man and since my ring is in pieces, I was welcome to have it. This was a bit of a surprise. It’s easily a $35K ring. Gorgeous 2+ carat diamond platinum with an incredible setting and wedding band. It’s admittedly fucking beautiful. \n\nWhen I told my husband about it, he was very excited and encouraged me to jump on the opportunity. He loves jewelry. But I explained to him how I felt about it and we argued a bit about it because he couldn’t understand why I wouldn’t take it, etc etc. He felt like it was owed to me after everything I’ve gone through. In the end we ended up taking it after our visit over thanksgiving because my mom was just keeping it in her bathroom drawer and we have a large safe, so I figured it was best to keep it locked up. Then without my knowledge, my husband took it to a jeweler to get it appraised and has approached me with some ideas for redesigning my ring using my mom’s. He is trying to make it sound like he did me a favor and that this is beneficial for everyone. I have been very clear. Feel free to redesign my ring and use any other jewelry I have but do not touch my mom’s ring. It belongs to me, my sister, and my mom, and we will decide what to do with it. Furthermore, I don’t want that fucking man’s diamond on my finger. My stomach turns at the thought of him.\n\nMy husband thinks I’m being unreasonable and is angry about the fact that I can’t see that he’s trying to do a “good” thing and I don’t appreciate it. AITA? "
        ],
        [
         "102",
         "1jx8qdi",
         "Not the A-hole",
         "AITAH because I don’t want to go to a birthday party?",
         "For context, I’ve been friends with this person since we were toddlers. We share a lot of history together. \n  I(27F) have been friends with “Amy” (27F) for almost my whole life. Our parents are friends, and we spent practically our whole childhood together. It was more of a sisterhood bond if anything.\nRecently in February, I have found out she was sharing my business with a girl we’ll call Heather (26F). I’m not friends with Heather, but I have met her a handful of times and we have each other on social media. Heather messaged me on social media and asked if she could call me and get my number. I was hesitant, but gave it to her because she said she needed to talk to me about Amy. \n   What she called to tell me shocked me but most of all hurt me. Heather, a girl I barely know, told me Amy called her and the topic of having kids came up, (Amy has 3 kids back to back, all toddlers). Amy proceeded to tell Heather I am more like an “aunt” figure, I wouldn’t be a good mom and she can’t see “motherhood going well for me.” (Her exact words according to Heather.) Amy proceeded to tell Heather about my fertility issues, and how I “can’t have kids.” (Again, her words according to Heather.) \n  It turns out, Heather was in the same boat as me and she her husband are going through IVF. And according to her, it made her upset and of course she felt some kind of way. \n   When I confronted Amy in text and told her I can’t trust her anymore and I have to cut ties she called me 10 times in a row to which I declined. She texted Heather “she knows” and “I can’t believe you went behind my back.” (Heather sent me screenshots.) \nHeather told her own heath issues to Amy, and told her she was wrong to tell someone else’s business and blocked her. Amy and Heather haven’t spoken since. \n   I, on the other hand, still have her via social media and she sends pictures of the kids to me and tries to tag me and send me videos. I heart the kids pictures and move on. \nRecently, she invited me to her children’s birthday parties. I just don’t feel comfortable, I wouldn’t feel right going to a “friends” event knowing what she said about me. And, she’s been more in contact than usual because I know she wants me to come. \nI don’t know what or where to go from here an I use our close past as an excuse. \nSo, in conclusion, AITAH for not wanting to go? "
        ],
        [
         "103",
         "1jx8lu6",
         "Asshole",
         "AITA for winning the stuffed animal my girlfriend had set up, and not giving it to her?",
         "So reddit, I (18m) and my partner (19f) went to see the minecraft movie with some friends today. for context, me and another group of friends had gone the previous day at the same theater, and in this theater theres a corner with a claw machine with little plush keychains. \n\ni rarely buy myself stuffed animals, but while browsing the machines i saw one and i knew i had to have it. i immediately put 10 bucks into tokens, handed a few out to my friends (who bought snacks) and sank like 5 dollars all on this one little keyboard bunny rabbit keychain. \n\nwhen i was out of tokens and it was sitting right on the edge of the prize drop, i vowed to come back for this precious angel. i dont know what about this one specifically my heart was set on but i was ready to spend another 10 for this probably $1.50 keychain. \n\nfast forward to earlier today, were headed to the theater and i have one thing on my mind. as soon as were in the door i head over, and i cant find my card to get tokens. the keychain is right where i left it, and my friends and girlfriend are catching up and im praying they arent going to see my baby before i get the chance to win her myself. \n\nwell, luck would have it, i couldnt find the card under all the candy i had smuggled in my pockets, and had to step outside to empty them find my card and come back. \n\nwhen i arrive, to my horror, my girlfriend is going for the exact one i had set up and wanted! i rush over to watch as im getting my tokens, she picks it up and my heart stops, and it falls EVEN CLOSER than it was before!!! when she was out of tokens, i put one in and immediately got it.  before i could celebrate she says \"i cant believe you just swooped in and got the one i set up\", which, i got a bit defensive at but couldnt say much as she had moved it closer. \n\ni feel a little bad and i think my friends judged me a bit for not just handing over the keychain but she has sooo many stuffed animals, she gets her own, she gets them as gifts, i get them for her and have won them for her before, i was just so dead set on this particular one. i spent the rest of my tokens trying to get a similar one for her but failed. i dont think shes super upset at me but i do kinda feel like a dick. AITA? \n\nEDIT: getting a lot of mixed responses on this post but the general consensus seems like im the asshole, im taking some of the commenters advice and ordering some plushies for her as we speak. when we see eachother sunday im going to communicate better what was going on with me in that moment, apologize, and hopefully i won't have done irreparable damage to my image as a partner 🤞 wish me luck! "
        ],
        [
         "105",
         "1jx8k65",
         "Not the A-hole",
         "AITA for telling my parents my sister is pregnant?",
         "Some context: I (22F) have been living on my own since I was 18, due to my family home situation. My older sister (27F), who has serious mental illnesses (BPD & Bipolar) and has moved in and out of my parents house for years now (she currently lives there). She had him when she was 22 and has never been able to properly care for him. \nMoving him around constantly, in and out of abusive/toxic relationships, addicted to drugs, been homeless, admitted to the hospital several times and hasn’t worked since she was first pregnant with him.\n\nMy parents essentially took over legal guardianship of my nephew, (court orders) he is the sweetest little boy but was diagnosed with high functioning autism, and is essentially non verbal at the age of 5. It has been a battle, helping raise him, learning new skills to parent him, and my parents are doing the absolute best and most for him. I visit consistently and help with him as often as I am able to. They are financially, emotionally and physically supporting him and my sister and have been ever since he was born.  \n\nMy sister and I are not close anymore, but she still talks to me when she needs something (money, help, rides etc) \nSo a few weeks ago, she messaged me telling me she was expecting and sent the ultrasound and everything. I was dumbfounded, she is barely able to care for herself and the son she currently has, how the hell could she bring another child into this world and put that on my parents to raise yet another child, mind you my parents are 65+. \nI decided I needed to tell my parents, not really sure what they could do about the situation, but knowing it would affect them the most. They ended up asking her about it, and she absolutely flipped out and called me asking why the hell I would tell them. Telling me that she told me in confidence, and I could never be trusted, that I am a horrible sister and that I don’t believe in her. It caused a massive fight amongst my parents and sister and she is threatening to leave. We have not spoken since.\n\nI’m left feeling hurt, sad, confused and frustrated for everyone. I have empathy for her and I know it is a struggle to live with these illnesses, but she isn’t actively doing anything to better her life for herself or her son. \nI feel conflicted because I know it wasn’t my place to tell them and she has every right to be mad at me so now I am left wondering, am I the asshole for revealing her pregnancy? \n\nSide note: it’s difficult for my parents to not “enable her” by caring for her and her son because they love him so much and don’t want him to have to suffer alongside, he deserves a stable, happy and healthy life.  "
        ],
        [
         "106",
         "1jx8euj",
         "Not the A-hole",
         "AITA for installing a lock on my bathroom?",
         "Hello all, F26 here, I live with M25 and M27 in a shared house that we rent. When we all first moved in here (about 6 months ago) we all signed agreements on certain things. One of those being that I will solely cover the cost of the water bill but the spare bathroom in the house is mine. This was all completely fine up until about 2 weeks ago. \n\nM27 I’ll call John for this, recently started using my shower randomly out of the blue. I figured maybe they ran into each other and he needed to shower quick for work and thought no biggie and that it wasn’t a big deal. This turned into John using my bathroom for everything, showering, going to the bathroom, shaving AND LEAVING HAIR EVERYWHERE, and I’ve had enough. I cleaned the entire bathroom and installed a lock on it with a key that only I have. After I did this John sent a message to our group chat saying, and I quote. “Why is the bathroom locked?? What is happening?” Now in the days leading up to this I spoke to my other roommate M25 and he agreed with me that I should lock it and be done with it and has zero issues with that one being mine (per our agreement). When John first sent that message I was just clocking into work so I sent a quick “because I pay extra for that bathroom to be solely mine”. And I left my phone in my locker. When I got on my break I came back to a bunch of messages in our group chat the highlights being “um no you do not” and “if I can’t use the bathroom in our fucking house I might just move out” and he was essentially just throwing a fit about the whole thing. AITA here?\n"
        ],
        [
         "107",
         "1jx8eqc",
         "Not enough info",
         "WIBTA for telling my sister-in-law that her sister shouldn't join our family trip?",
         "There are five siblings in my husband's family. Their parent's passed away a few years ago. With some of the money they inherited from their parents, they decided to go on a cruise as adult siblings with spouses. My husband's, brother's, wife's (my sister-in-law we'll call Patty), sister (my sister-in-law's sister - we'll call her Bonnie) is a travel agent, and she agreed to help us book the cruise. I was grateful for her help in booking the cruise, until she started discussing rooms, and she had booked a room for herself and her husband right in the middle of the rest of our rooms. Bonnie had joked about joining us when we were on the zoom call the night before making plans, but we all laughed and I literally thought it was a joke. Turns out, the two sisters thought it would be a great idea for Bonnie and her husband to to join us (they would pay their own way). These two sisters are extroverted and energetic, and no doubt would dominate all conversations. I called my husband's sister (Janna) to get her thoughts, and she and her husband were upset to learn that this couple wanted to join us. We all felt this would interfere with our ability to talk openly about our family and the things that are unique to this sibling group. My own siblings went on a similar cruise and it would have been extremely awkward if one of the in-laws had invited their sibling to join us. No one that was upset about this couple joining our cruise was willing to rock the boat and bring up this concern, so I had to be the bad guy. My sister-in-law, Patty, immediately apologized and said that her sister and husband would not join us. That was a couple months ago. Since then, Janna and her spouse had to back out - which we are all sad about. My brother-in-law just called my husband and said that his wife's sister, Bonnie, still really wants to come on the cruise with us, and now that the sister that was opposed to them joining has dropped out, they want to know if we would be okay with them joining us. I cannot understand how they would even think this is okay. This sibling group has never done a trip like this before, and who knows if an opportunity like this will ever come up again. I really think that having this couple, that doesn't belong to this sibling group, will completely alter the dynamics of the group and make things awkward. At this point, I feel like no matter what we decide, it will be awkward. If we say that we would prefer for it to just be our little sibling group so we can have a nice bonding experience, Patty and her husband will harbor hard feelings. If we say, go ahead and join us, we won't have that bonding experience and everything will be awkward because they will know that we would have preferred to not have the outside couple join us.\n\nWIBTA to say no, again, to them joining us?"
        ],
        [
         "108",
         "1jx89xn",
         "Not the A-hole",
         "AITA because my friend (20F) thought I wanted her boyfriend (20M) and I had no idea??",
         "I had a friend in college for a while, we were decently close with each other I’d say. I also knew her boyfriend before they dated. When she told me she liked him, I even encouraged them to get together. I swear to god, I’ve never seen him in any way more than a friend, as he was also very openly bi and quite feminine, I always saw him as more of a girl friend.\n\nThe three of us were quite close at one point, because they knew that I liked someone else and was helping me with it. But as time passed on and as I started getting in a relationship with my boyfriend, I come to find out that she’s been shittalking me the whole time telling him that I’m a terrible person that wants her boyfriend. Granted, I know my boyfriend and her were also close friends, but it was genuinely so shocking for me to find that she thought all these terrible things about me without me knowing.\n\nLooking back, I don’t think there was much I did that indicated that I liked him. She claims that I have explicitly told a mutual friend that I liked him, which would be an ABSURD thing to say out loud, let alone a mutual. However, I will say I could have been more attentive to how she felt and noticed things earlier on. We always had a very bantering friendship, and remember once when they were together, I was texting them both at the same time. She asked me what we talked about, I thought she was joking with me since he’s right next to her and there’s no way she can’t already see the messages. She then proceeded to say that I’m not a girl’s girl, which I was really confused about but just joked and said sure you’re right i’m not a girls girl for you. Retrospectively, I obvious would not have said that and treated it like a joke, but I genuinely had no idea she was actually suspicious of us. Other than this instance, I’ve never hung out with him 1 on 1, called/facetimed, or text extensively. \n\nOnce I found out about this, I asked my boyfriend to ask her if she’d like to ever talk and clear things up. She got mad at him for bringing it up and said that she will never talk to me. Since then, my boyfriend has kind of just let their friendship die down, and nothing much has happened. I do feel very bad carrying the guilt that I have inflicted harm upon someone else, and I really wanted the opportunity to apologize for my oversight. It makes me feel awful knowing that someone thinks of me so poorly and yet I had no idea of it. Moving forward, I’m not sure if I should just leave this in the past, implore my boyfriend to reconnect with her, or try reaching out again. "
        ]
       ],
       "shape": {
        "columns": 4,
        "rows": 7780
       }
      },
      "text/html": [
       "<div>\n",
       "<style scoped>\n",
       "    .dataframe tbody tr th:only-of-type {\n",
       "        vertical-align: middle;\n",
       "    }\n",
       "\n",
       "    .dataframe tbody tr th {\n",
       "        vertical-align: top;\n",
       "    }\n",
       "\n",
       "    .dataframe thead th {\n",
       "        text-align: right;\n",
       "    }\n",
       "</style>\n",
       "<table border=\"1\" class=\"dataframe\">\n",
       "  <thead>\n",
       "    <tr style=\"text-align: right;\">\n",
       "      <th></th>\n",
       "      <th>id</th>\n",
       "      <th>flair</th>\n",
       "      <th>title</th>\n",
       "      <th>body</th>\n",
       "    </tr>\n",
       "  </thead>\n",
       "  <tbody>\n",
       "    <tr>\n",
       "      <th>56</th>\n",
       "      <td>1jxvssj</td>\n",
       "      <td>Not the A-hole</td>\n",
       "      <td>AITA for not inviting one friend on our trip?</td>\n",
       "      <td>I've been friends with “Anna” and “Juan” since...</td>\n",
       "    </tr>\n",
       "    <tr>\n",
       "      <th>57</th>\n",
       "      <td>1jxvoyx</td>\n",
       "      <td>Not the A-hole</td>\n",
       "      <td>AITA for the joke I made at a get together, in...</td>\n",
       "      <td>Istg I've got to stop giving my weekends away ...</td>\n",
       "    </tr>\n",
       "    <tr>\n",
       "      <th>58</th>\n",
       "      <td>1jxu9hu</td>\n",
       "      <td>Not the A-hole</td>\n",
       "      <td>AITA for not turning on Life 360 for my mom</td>\n",
       "      <td>I(19f) am a university student and I still li...</td>\n",
       "    </tr>\n",
       "    <tr>\n",
       "      <th>59</th>\n",
       "      <td>1jxtxfl</td>\n",
       "      <td>Asshole</td>\n",
       "      <td>AITA for bringing our daughter to my husband’s...</td>\n",
       "      <td>\\n\\nAITA for bringing our daughter to my husba...</td>\n",
       "    </tr>\n",
       "    <tr>\n",
       "      <th>60</th>\n",
       "      <td>1jxt7ww</td>\n",
       "      <td>Not the A-hole</td>\n",
       "      <td>AITA for kicking out a homeless woman from the...</td>\n",
       "      <td>So, I work at a 5\\* hotel and more than a mont...</td>\n",
       "    </tr>\n",
       "    <tr>\n",
       "      <th>...</th>\n",
       "      <td>...</td>\n",
       "      <td>...</td>\n",
       "      <td>...</td>\n",
       "      <td>...</td>\n",
       "    </tr>\n",
       "    <tr>\n",
       "      <th>8787</th>\n",
       "      <td>1jojgxw</td>\n",
       "      <td>No A-holes here</td>\n",
       "      <td>AITA for telling my roommate to stop cooking f...</td>\n",
       "      <td>I (25F) asked my roommate (26M) to stop cookin...</td>\n",
       "    </tr>\n",
       "    <tr>\n",
       "      <th>8788</th>\n",
       "      <td>1jojau1</td>\n",
       "      <td>Not the A-hole</td>\n",
       "      <td>AITA for telling someone’s unattended child to...</td>\n",
       "      <td>im 18f, have a 19 month old child, and i live ...</td>\n",
       "    </tr>\n",
       "    <tr>\n",
       "      <th>8789</th>\n",
       "      <td>1joiw05</td>\n",
       "      <td>Not the A-hole</td>\n",
       "      <td>AITA For Not Helping My Parents When They Need Me</td>\n",
       "      <td>I (21) have a mom (39) who just had my little ...</td>\n",
       "    </tr>\n",
       "    <tr>\n",
       "      <th>8790</th>\n",
       "      <td>1joipct</td>\n",
       "      <td>Not the A-hole</td>\n",
       "      <td>AITA for leaving my boyfriends bday party afte...</td>\n",
       "      <td>went to his party made a proper effort to look...</td>\n",
       "    </tr>\n",
       "    <tr>\n",
       "      <th>8791</th>\n",
       "      <td>1joilli</td>\n",
       "      <td>Asshole</td>\n",
       "      <td>AITA for getting Bob Dylan tickets</td>\n",
       "      <td>So Bob Dylan's coming to play a concert near m...</td>\n",
       "    </tr>\n",
       "  </tbody>\n",
       "</table>\n",
       "<p>7780 rows × 4 columns</p>\n",
       "</div>"
      ],
      "text/plain": [
       "           id            flair  \\\n",
       "56    1jxvssj   Not the A-hole   \n",
       "57    1jxvoyx   Not the A-hole   \n",
       "58    1jxu9hu   Not the A-hole   \n",
       "59    1jxtxfl          Asshole   \n",
       "60    1jxt7ww   Not the A-hole   \n",
       "...       ...              ...   \n",
       "8787  1jojgxw  No A-holes here   \n",
       "8788  1jojau1   Not the A-hole   \n",
       "8789  1joiw05   Not the A-hole   \n",
       "8790  1joipct   Not the A-hole   \n",
       "8791  1joilli          Asshole   \n",
       "\n",
       "                                                  title  \\\n",
       "56        AITA for not inviting one friend on our trip?   \n",
       "57    AITA for the joke I made at a get together, in...   \n",
       "58          AITA for not turning on Life 360 for my mom   \n",
       "59    AITA for bringing our daughter to my husband’s...   \n",
       "60    AITA for kicking out a homeless woman from the...   \n",
       "...                                                 ...   \n",
       "8787  AITA for telling my roommate to stop cooking f...   \n",
       "8788  AITA for telling someone’s unattended child to...   \n",
       "8789  AITA For Not Helping My Parents When They Need Me   \n",
       "8790  AITA for leaving my boyfriends bday party afte...   \n",
       "8791                 AITA for getting Bob Dylan tickets   \n",
       "\n",
       "                                                   body  \n",
       "56    I've been friends with “Anna” and “Juan” since...  \n",
       "57    Istg I've got to stop giving my weekends away ...  \n",
       "58     I(19f) am a university student and I still li...  \n",
       "59    \\n\\nAITA for bringing our daughter to my husba...  \n",
       "60    So, I work at a 5\\* hotel and more than a mont...  \n",
       "...                                                 ...  \n",
       "8787  I (25F) asked my roommate (26M) to stop cookin...  \n",
       "8788  im 18f, have a 19 month old child, and i live ...  \n",
       "8789  I (21) have a mom (39) who just had my little ...  \n",
       "8790  went to his party made a proper effort to look...  \n",
       "8791  So Bob Dylan's coming to play a concert near m...  \n",
       "\n",
       "[7780 rows x 4 columns]"
      ]
     },
     "metadata": {},
     "output_type": "display_data"
    }
   ],
   "source": [
    "display(df_clean)"
   ]
  },
  {
   "cell_type": "code",
   "execution_count": 17,
   "id": "ca966ee1",
   "metadata": {},
   "outputs": [
    {
     "data": {
      "text/plain": [
       "flair\n",
       "Not the A-hole     5380\n",
       "Asshole            1330\n",
       "Everyone Sucks      460\n",
       "No A-holes here     340\n",
       "Not enough info     260\n",
       "                     10\n",
       "Name: count, dtype: int64"
      ]
     },
     "execution_count": 17,
     "metadata": {},
     "output_type": "execute_result"
    }
   ],
   "source": [
    "df_clean['flair'].value_counts()"
   ]
  },
  {
   "cell_type": "code",
   "execution_count": 1,
   "id": "cdaf3388",
   "metadata": {},
   "outputs": [
    {
     "ename": "NameError",
     "evalue": "name 'df_clean' is not defined",
     "output_type": "error",
     "traceback": [
      "\u001b[31m---------------------------------------------------------------------------\u001b[39m",
      "\u001b[31mNameError\u001b[39m                                 Traceback (most recent call last)",
      "\u001b[36mCell\u001b[39m\u001b[36m \u001b[39m\u001b[32mIn[1]\u001b[39m\u001b[32m, line 1\u001b[39m\n\u001b[32m----> \u001b[39m\u001b[32m1\u001b[39m df_clean = \u001b[43mdf_clean\u001b[49m.reset_index()\n",
      "\u001b[31mNameError\u001b[39m: name 'df_clean' is not defined"
     ]
    }
   ],
   "source": [
    "df_clean = df_clean.reset_index()"
   ]
  },
  {
   "cell_type": "code",
   "execution_count": null,
   "id": "6a3eac6e",
   "metadata": {},
   "outputs": [
    {
     "data": {
      "application/vnd.microsoft.datawrangler.viewer.v0+json": {
       "columns": [
        {
         "name": "index",
         "rawType": "int64",
         "type": "integer"
        },
        {
         "name": "id",
         "rawType": "object",
         "type": "string"
        },
        {
         "name": "flair",
         "rawType": "object",
         "type": "string"
        },
        {
         "name": "title",
         "rawType": "object",
         "type": "string"
        },
        {
         "name": "body",
         "rawType": "object",
         "type": "string"
        }
       ],
       "conversionMethod": "pd.DataFrame",
       "ref": "0c7995c2-74e5-4828-ac1c-80158b6fc722",
       "rows": [
        [
         "0",
         "1jxt7ww",
         "Not the A-hole",
         "AITA for kicking out a homeless woman from the hotel I work at?",
         "So, I work at a 5\\* hotel and more than a month ago, a woman came to the lobby at around 22:00 and asked if she could stay for a while inside. She was presentable and polite, so we agreed. At around 4AM, she left. The day after, she came back with the same request and again we allowed her to stay and sleep for a while, until she left at around 5AM. This kept on repeating for the next days and she started coming earlier, asking for food and drinks from the bar, and staying until later and asking for breakfast in the morning. We got a warning from our supervisors saying that this cannot keep on happening, and the next day when she came again (3 weeks after her first appearance), we had to kick her out at around 2AM. However, she kept on coming every day.\n\nShe has now been coming to the hotel every night for 5 weeks straight, where she has asked more than once if she could shower in one of the rooms, storage her heavy bags which she carries every night and even paid for a room (more than 200$ per night) in one of the nights. We have offered to help her several times, giving her recommendations for homeless shelters and the like, but she keeps on denying. The reception team as even offered to get her a room at a cheap hotel, to which she says no, and she claims to have no friends or family that can help her.\n\nThe part I cannot understand is: she always has clean clothes, smells nice and is polite. She often uses her Macbook and iPhone at the reception and has never disturbed anyone. I know from a logistics point of view, we can give her shelter and leftover food, but it's part of the hotel's policy that NO ONE can sleep in the lobby, not even guests. In the last few times we had to kick her out, she complains that no woman should be left alone in the streets at night and it really makes me feel like an asshole to ask her to leave.\n\nSo, AITA?\n\nEdit: I should add that she is very likely to have a mental illness. Her speech is incoherent, she has told different versions of her story several times and is very often confused."
        ],
        [
         "1",
         "1jxt2o7",
         "Not the A-hole",
         "AITA for making a game based on an idea me and a friend made years ago?",
         "Basically back in 2021 me and a friend had an idea to make a game but we never really got through with it and it was all left in various unfinished prototypes that never got too far, a few months ago, i decided to pick back up the idea as it had been a really long time and i wanted to give it enough justice in the way of at least making it a somewhat finished game that had a coherent structure, the moment i showed this to my friend, he started remaking everything i had done for it but with his detailing style, scripting style, etc...\n\nNow, he wants me to completely stop making mine and practically copy most of the things i had done for my version of the game (which he already has without asking me once and henceforth without my permission) and i dont really know how to proceed with it as i dont want to give him full control as i simply dont see it right and i have no intentions of monetizing the project since all i do is passion projects that i make for fun.\n\nI just want to continue the project and if he wants to he can also make his own version, i have no problem with both versions co-existing and i'd be glad to help him with his own version after im done with my current demo of my own.\n\nAm i the asshole?"
        ],
        [
         "2",
         "1jxrssb",
         "Asshole",
         "AITA for preferring that my uncle teach me to drive than my dad and refusing to tell my dad why?",
         "Throwaway because I know at least one of my sisters uses reddit and I really don’t want this to get back to my dad. My(19F) dad(45M) has been badgering me to learn to drive for the last 2 years and I’ve been resistant to the idea because of multiple reasons. Partly the cost. Average lesson in my area is like £40 per hour and because I’ve got a part-time job my dad wants me to contribute to it. It’s my money and I don’t really see why I should have to pay for something I don’t even want to do so I didn’t but eventually he gave me an ultimatum of either learning to drive or pay rent to them (I live at home). \n\nI don’t think I can focus for long enough to be safe about it so I know I’d be shit at it. The idea of being in charge of something that could kill someone really freaks me out, and I don’t really trust myself with the responsibility. When I tried to explain this to my dad, he just gave me empty reassurances about how I shouldn’t let my anxiety hold me back. I think if I can’t stand even the thought of it, I’m not gonna be much better in practice. \n\nSo I chose to pay rent. Public transport isn’t awful where I live and I don't mind having to leave the house 20 minutes earlier than I would with a car. This clearly wasn’t what he wanted though because he called me stubborn and got all passive aggressive and pissy at me for a while. Eventually my dad sat me down and told me the reason he wanted me to learn to drive was because it opens up a lot of doors in the world or something and he was willing to entirely pay for the driving lessons, and teach me some stuff himself in car park before the lessons began so I wouldn’t be as nervous. I’m sick of arguing so I caved. He seemed really pleased by this and told me he’d always wanted to teach his kid to drive (I’m the eldest).\n\nThen I started having anxiety attacks about accidentally killing my dad. A few days after we talked, I told my dad I would only learn if my uncle (38M who lives pretty close to us and I don’t think he has anything better to do and would probably agree) taught me instead. He got pretty upset and honestly seemed insulted, especially because I kept just brushing him off or shutting down when he asked why. I couldn’t tell him though, because I know it sounds cruel and cold but the honest reason is that I’d rather my uncle die than him. Realistically, I know it’s not actually likely anything serious will happen but I couldn’t forgive myself if I risked my dad’s life. Obviously I’d care if my uncle died, but we’re not as close as me and my dad and he’s a bit of a prick anyway. I think I’d probably drive better if I wasn’t worrying about my dad the whole time on top of the driving anxiety. \n\nNow my dad’s mad at me and the only times we’ve spoken in the last week have been either fighting or awkward. I really just wish he’d let it go because I don’t want to explain and I’d be learning to drive anyway, but at the same time I’ve been feeling guilty ever since. AITA?\n\n"
        ],
        [
         "3",
         "1jxrk9e",
         "Not the A-hole",
         "AITA for indirectly establishing a boundary with my stepdad?",
         "I (F20) am currently in a situation where my mom (F48) and my stepdad (M40) aren't really speaking to me and I want to know if I'm in the right or wrong.\n\nFriday morning, my stepdad kept coming into my room (I sleep with my door closed) with my dog playing with him, all the while roughly patting on me to rile him up (for reference, my dog is a year old so he's pretty young and energetic). He did this THREE TIMES while I was trying to sleep in as I didn't have school on Fridays. The third time however, was where this story takes a turn.\n\nFor context -- so this part of the story makes sense -- I used to live with my abusive father and his wife's children used to come into my room, unannounced and uninvited, touch and sometimes steal my stuff. This caused me to be very territorial with my belongings (silly, I know).\n\nSo he jokingly says to my puppy, \"Let's take her stuff!\" and he takes my Wii remote and puts it in his pocket, my stuffed cow and my Wii U gamepad. He turns it on and kind of starts fucking with it and I start to panic because my stuff is being touched. After he leaves, I send a text message to my mom saying, \"he (my stepdad) keeps touching my friggin stuff and im afraid to speak up about it without him getting mad. it's a huge boundary of mine.\" She messages back saying \"what the fuck\" \"he's having fun and you're ruining it\". Then she tells me HE READ HER FUCKING MESSAGE and I hear start going off, cursing and mumbling to himself (this is something he always does when he's angered and it greatly annoys me and my mother). My mom then messages me with things like \"why do you always do this\" \"you shouldn't have said that\" and that he was having fun and joking around (which he doesn't really do with me). Now, he wants nothing to do with me and is angry with me. My mom is also upset but seems to want to move on from the situation but both of them aren't really speaking to me. My stepdad keeps mocking/mimicking me and bringing up what happened causing my mom to yell at him to stop and doesn't want to talk about it anymore. Now he gives me glares and does that obnoxious sigh thing when someone who doesn't like you sees you come around and now I feel guilty.\n\nI firmly believe this situation could've been prevented or not have happened at all but all I did was state a boundary and I upset everyone. my boyfriend, my best friend and her sister believe I'm not in the wrong and that my stepdad could've handled the situation better. So AITA? "
        ],
        [
         "4",
         "1jxr9tf",
         "Not the A-hole",
         "AITA for considering a business that competes with my friend’s side hustle?",
         "TL;DR: My friend runs a side hustle inspecting boats for buyers. I want to start a platform connecting people in our region with services like his, but he says it’s disloyal and feels like a betrayal.\n\nHi everyone,\n\nMy friend (let’s call him John) and I are both men in our mid-30s. We’ve been close friends since meeting in college.\n\nWe live in a region surrounded by water, so boats are very popular here. You can pick up a basic fishing boat with a small engine for a few thousand dollars. Think functional and modest, not luxury yachts.\n\nBoth John and I have always been interested in boats and engines. However, I’ll admit that John’s knowledge is much deeper than mine, which will be relevant in a moment.\n\nJohn works full-time but also runs a side hustle advising people on whether a used boat is worth buying. He’s built a solid reputation, and his clients seem happy with his advice.\n\nWhile I don’t have John’s level of expertise, I’m passionate about this topic and have been seriously considering starting a business that focuses on marketing these services and finding clients. My idea is to handle the marketing and connect clients with experts like John, leaving the technical advice to them.\n\nI brought up this idea to John yesterday for the first time, and he wasn’t happy. He said it felt like a betrayal and accused me of trying to create direct competition, which he thinks isn’t something a friend should do.\n\nI’ll admit I might not have thought of this idea if John hadn’t started his side hustle first. But I genuinely don’t think it’s unfair. To me, this feels no different than two friends applying for similar jobs in the same field.\n\nSome might suggest we partner up, and that’s a fair point. But I think we’re in different stages of life—he’s married with a 3-year-old, while I’m single and more willing to take risks.\n\nAm I the asshole here?"
        ]
       ],
       "shape": {
        "columns": 4,
        "rows": 5
       }
      },
      "text/html": [
       "<div>\n",
       "<style scoped>\n",
       "    .dataframe tbody tr th:only-of-type {\n",
       "        vertical-align: middle;\n",
       "    }\n",
       "\n",
       "    .dataframe tbody tr th {\n",
       "        vertical-align: top;\n",
       "    }\n",
       "\n",
       "    .dataframe thead th {\n",
       "        text-align: right;\n",
       "    }\n",
       "</style>\n",
       "<table border=\"1\" class=\"dataframe\">\n",
       "  <thead>\n",
       "    <tr style=\"text-align: right;\">\n",
       "      <th></th>\n",
       "      <th>id</th>\n",
       "      <th>flair</th>\n",
       "      <th>title</th>\n",
       "      <th>body</th>\n",
       "    </tr>\n",
       "  </thead>\n",
       "  <tbody>\n",
       "    <tr>\n",
       "      <th>0</th>\n",
       "      <td>1jxt7ww</td>\n",
       "      <td>Not the A-hole</td>\n",
       "      <td>AITA for kicking out a homeless woman from the...</td>\n",
       "      <td>So, I work at a 5\\* hotel and more than a mont...</td>\n",
       "    </tr>\n",
       "    <tr>\n",
       "      <th>1</th>\n",
       "      <td>1jxt2o7</td>\n",
       "      <td>Not the A-hole</td>\n",
       "      <td>AITA for making a game based on an idea me and...</td>\n",
       "      <td>Basically back in 2021 me and a friend had an ...</td>\n",
       "    </tr>\n",
       "    <tr>\n",
       "      <th>2</th>\n",
       "      <td>1jxrssb</td>\n",
       "      <td>Asshole</td>\n",
       "      <td>AITA for preferring that my uncle teach me to ...</td>\n",
       "      <td>Throwaway because I know at least one of my si...</td>\n",
       "    </tr>\n",
       "    <tr>\n",
       "      <th>3</th>\n",
       "      <td>1jxrk9e</td>\n",
       "      <td>Not the A-hole</td>\n",
       "      <td>AITA for indirectly establishing a boundary wi...</td>\n",
       "      <td>I (F20) am currently in a situation where my m...</td>\n",
       "    </tr>\n",
       "    <tr>\n",
       "      <th>4</th>\n",
       "      <td>1jxr9tf</td>\n",
       "      <td>Not the A-hole</td>\n",
       "      <td>AITA for considering a business that competes ...</td>\n",
       "      <td>TL;DR: My friend runs a side hustle inspecting...</td>\n",
       "    </tr>\n",
       "  </tbody>\n",
       "</table>\n",
       "</div>"
      ],
      "text/plain": [
       "        id           flair                                              title  \\\n",
       "0  1jxt7ww  Not the A-hole  AITA for kicking out a homeless woman from the...   \n",
       "1  1jxt2o7  Not the A-hole  AITA for making a game based on an idea me and...   \n",
       "2  1jxrssb         Asshole  AITA for preferring that my uncle teach me to ...   \n",
       "3  1jxrk9e  Not the A-hole  AITA for indirectly establishing a boundary wi...   \n",
       "4  1jxr9tf  Not the A-hole  AITA for considering a business that competes ...   \n",
       "\n",
       "                                                body  \n",
       "0  So, I work at a 5\\* hotel and more than a mont...  \n",
       "1  Basically back in 2021 me and a friend had an ...  \n",
       "2  Throwaway because I know at least one of my si...  \n",
       "3  I (F20) am currently in a situation where my m...  \n",
       "4  TL;DR: My friend runs a side hustle inspecting...  "
      ]
     },
     "metadata": {},
     "output_type": "display_data"
    }
   ],
   "source": [
    "df_clean = df_clean.drop('index',axis=1)\n",
    "display(df_clean.head())"
   ]
  },
  {
   "cell_type": "code",
   "execution_count": null,
   "id": "ced25102",
   "metadata": {},
   "outputs": [
    {
     "data": {
      "text/plain": [
       "(7780, 4)"
      ]
     },
     "execution_count": 100,
     "metadata": {},
     "output_type": "execute_result"
    }
   ],
   "source": [
    "df_clean.shape"
   ]
  },
  {
   "cell_type": "code",
   "execution_count": null,
   "id": "97459501",
   "metadata": {},
   "outputs": [],
   "source": [
    "# df_clean.to_csv('aita7780.csv')"
   ]
  },
  {
   "cell_type": "code",
   "execution_count": null,
   "id": "6b3bcb41",
   "metadata": {},
   "outputs": [],
   "source": []
  }
 ],
 "metadata": {
  "kernelspec": {
   "display_name": "data",
   "language": "python",
   "name": "python3"
  },
  "language_info": {
   "codemirror_mode": {
    "name": "ipython",
    "version": 3
   },
   "file_extension": ".py",
   "mimetype": "text/x-python",
   "name": "python",
   "nbconvert_exporter": "python",
   "pygments_lexer": "ipython3",
   "version": "3.13.2"
  }
 },
 "nbformat": 4,
 "nbformat_minor": 5
}
