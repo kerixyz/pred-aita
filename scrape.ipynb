{
 "cells": [
  {
   "cell_type": "code",
   "execution_count": null,
   "id": "5fa0fc14",
   "metadata": {},
   "outputs": [
    {
     "ename": "",
     "evalue": "",
     "output_type": "error",
     "traceback": [
      "\u001b[1;31mThe kernel failed to start as the Python Environment 'ml (Python -1.-1.-1)' is no longer available. Consider selecting another kernel or refreshing the list of Python Environments."
     ]
    }
   ],
   "source": [
    "import re\n",
    "import praw\n",
    "import string\n",
    "import numpy as np\n",
    "import pandas as pd\n",
    "import matplotlib.pyplot as plt\n",
    "import seaborn as sns\n",
    "import pickle\n",
    "import requests  \n",
    "\n",
    "import os\n",
    "from dotenv import load_dotenv\n",
    "\n",
    "load_dotenv()\n",
    "\n"
   ]
  },
  {
   "cell_type": "code",
   "execution_count": null,
   "id": "8c74719c",
   "metadata": {},
   "outputs": [],
   "source": [
    "client_id = os.getenv('CLIENT_ID')\n",
    "client_secret = os.getenv('CLIENT_SECRET')\n",
    "user_agent = os.getenv('USER_AGENT')\n",
    "reddit = praw.Reddit(client_id = client_id, \n",
    "                    client_secret =client_secret, \n",
    "                    user_agent=user_agent)\n",
    "\n",
    "posts = []\n",
    "#change subreddit to specific page\n",
    "sr = reddit.subreddit('AmITheAsshole')"
   ]
  },
  {
   "cell_type": "code",
   "execution_count": null,
   "id": "77769ed1",
   "metadata": {},
   "outputs": [],
   "source": [
    "posts = []\n",
    "\n",
    "for post in sr.new(limit=1000):\n",
    "    posts.append([post.created, post.url, post.id, post.score, post.num_comments, post.author, post.link_flair_text, post.title, post.selftext])\n"
   ]
  },
  {
   "cell_type": "code",
   "execution_count": null,
   "id": "c18d9f6a",
   "metadata": {},
   "outputs": [],
   "source": [
    "posts = pd.DataFrame(posts, columns=['created', 'url', 'id', 'score', 'num_comments', 'author', 'flair', 'title', 'body'])\n",
    "posts['created'] = pd.to_datetime(posts['created'], unit='s')\n"
   ]
  },
  {
   "cell_type": "code",
   "execution_count": null,
   "id": "0022d1e5",
   "metadata": {},
   "outputs": [],
   "source": [
    "display(posts)"
   ]
  },
  {
   "cell_type": "code",
   "execution_count": null,
   "id": "f879b295",
   "metadata": {},
   "outputs": [],
   "source": [
    "posts.dtypes"
   ]
  },
  {
   "cell_type": "code",
   "execution_count": null,
   "id": "dd698529",
   "metadata": {},
   "outputs": [],
   "source": [
    "df = posts.dropna()"
   ]
  },
  {
   "cell_type": "code",
   "execution_count": null,
   "id": "72289154",
   "metadata": {},
   "outputs": [],
   "source": [
    "df['flair'].unique()"
   ]
  },
  {
   "cell_type": "code",
   "execution_count": null,
   "id": "ef6097fd",
   "metadata": {},
   "outputs": [],
   "source": [
    "df = df[df['flair'].isin(['Asshole', 'Not the A-hole', 'No A-holes here',\n",
    "       'Not enough info', 'Everyone Sucks'])]\n",
    "df['flair'].unique()"
   ]
  },
  {
   "cell_type": "code",
   "execution_count": null,
   "id": "1a8b331b",
   "metadata": {},
   "outputs": [],
   "source": [
    "df.size"
   ]
  },
  {
   "cell_type": "code",
   "execution_count": null,
   "id": "b753886d",
   "metadata": {},
   "outputs": [],
   "source": [
    "df_clean = [['id','flair','title','body']]"
   ]
  },
  {
   "cell_type": "code",
   "execution_count": null,
   "id": "97459501",
   "metadata": {},
   "outputs": [],
   "source": [
    "df_clean.to_csv('aita6804.csv')"
   ]
  },
  {
   "cell_type": "markdown",
   "id": "42f69318",
   "metadata": {},
   "source": [
    "## Predict AITA "
   ]
  }
 ],
 "metadata": {
  "kernelspec": {
   "display_name": "ml",
   "language": "python",
   "name": "python3"
  },
  "language_info": {
   "codemirror_mode": {
    "name": "ipython",
    "version": 3
   },
   "file_extension": ".py",
   "mimetype": "text/x-python",
   "name": "python",
   "nbconvert_exporter": "python",
   "pygments_lexer": "ipython3",
   "version": "-1.-1.-1"
  }
 },
 "nbformat": 4,
 "nbformat_minor": 5
}
